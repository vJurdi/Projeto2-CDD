{
 "cells": [
  {
   "cell_type": "markdown",
   "metadata": {},
   "source": [
    "# Projeto 2 - Ciência dos Dados"
   ]
  },
  {
   "cell_type": "markdown",
   "metadata": {},
   "source": [
    "Nome: Victor Jurdi Gomes\n"
   ]
  },
  {
   "cell_type": "markdown",
   "metadata": {},
   "source": [
    "___\n",
    "# Classificador automático de sentimento\n"
   ]
  },
  {
   "cell_type": "markdown",
   "metadata": {},
   "source": [
    "### Tema escolhido: Budweiser\n"
   ]
  },
  {
   "cell_type": "code",
   "execution_count": 34,
   "metadata": {},
   "outputs": [],
   "source": [
    "import pandas as pd\n",
    "import numpy as np\n",
    "from scipy import stats\n",
    "import matplotlib.pyplot as plt\n",
    "from math import *\n"
   ]
  },
  {
   "cell_type": "code",
   "execution_count": 35,
   "metadata": {},
   "outputs": [],
   "source": [
    "#Treinamento\n",
    "budweiser=pd.read_excel(\"tweets_budweiser.xlsx\", \"Treinamento\")\n",
    "\n",
    "#Teste\n",
    "bud_teste=pd.read_excel(\"tweets_budweiser.xlsx\", \"Teste\")"
   ]
  },
  {
   "cell_type": "markdown",
   "metadata": {},
   "source": [
    "## Limpeza das mensagens"
   ]
  },
  {
   "cell_type": "code",
   "execution_count": 36,
   "metadata": {},
   "outputs": [],
   "source": [
    "def limpa(ser_orig):\n",
    "    ser = ser_orig.copy()\n",
    "    ser=ser.str.replace('@', ' ')\n",
    "    ser=ser.str.replace(\"'\", ' ')\n",
    "    ser=ser.str.replace('\"', ' ')\n",
    "    ser=ser.str.replace('.', ' ')\n",
    "    ser=ser.str.replace('(', ' ')\n",
    "    ser=ser.str.replace(')', ' ')\n",
    "    ser=ser.str.replace('$', ' ')\n",
    "    ser=ser.str.replace('*', ' ')\n",
    "    ser=ser.str.replace(':', ' ')\n",
    "    ser=ser.str.replace(';', ' ')\n",
    "    ser=ser.str.replace('-', ' ')\n",
    "    ser=ser.str.replace('_', ' ')\n",
    "    ser=ser.str.replace('%', ' ')\n",
    "    ser=ser.str.replace('/', ' ')\n",
    "    ser=ser.str.replace('!', ' ')\n",
    "    ser=ser.str.replace('?', ' ')\n",
    "    ser=ser.str.replace('[', ' ')\n",
    "    ser=ser.str.replace(']', ' ')\n",
    "    ser=ser.str.replace('{', ' ')\n",
    "    ser=ser.str.replace('}', ' ')\n",
    "    ser=ser.str.replace('+', ' ')\n",
    "    ser=ser.str.replace('>', ' ')\n",
    "    ser=ser.str.replace('<', ' ')\n",
    "    ser=ser.str.replace('^', ' ')\n",
    "    ser=ser.str.replace('~', ' ')  \n",
    "    ser=ser.str.replace('=', ' ')\n",
    "    ser=ser.str.replace('#', ' ')\n",
    "    ser=ser.str.replace('+', ' ')\n",
    "    ser=ser.str.replace('•', ' ')\n",
    "    ser=ser.str.replace(',', ' ')\n",
    "\n",
    "    \n",
    "    #Aperfeiçoamento\n",
    "    ser=ser.str.replace('eu', ' ')\n",
    "    ser=ser.str.replace('rt', ' ')\n",
    "    ser=ser.str.replace('https://...', ' ')\n",
    "    ser=ser.str.replace(' a ', ' ')\n",
    "\n",
    "    \n",
    "\n",
    "    \n",
    "\n",
    "    return ser\n"
   ]
  },
  {
   "cell_type": "code",
   "execution_count": 37,
   "metadata": {},
   "outputs": [],
   "source": [
    "budweiser[\"Treinamento\"] = limpa(budweiser[\"Treinamento\"])\n",
    "\n",
    "\n",
    "bud_teste[\"Teste\"] = limpa(bud_teste[\"Teste\"])"
   ]
  },
  {
   "cell_type": "markdown",
   "metadata": {},
   "source": [
    "___\n",
    "### Montando o Classificador Naive-Bayes\n",
    "\n",
    "Considerando apenas as mensagens da planilha Treinamento, ensine  seu classificador."
   ]
  },
  {
   "cell_type": "code",
   "execution_count": 43,
   "metadata": {},
   "outputs": [
    {
     "name": "stdout",
     "output_type": "stream",
     "text": [
      "['essa', 'budweiser', 'me', 'fud', 'ontem', 'dor', 'de', 'cabeça', 'tá', 'tendo', 'm', 's', 'amigos', '🤦🏿\\u200d♂😂😂😂😂', 'david3', 'rick', 'crlh', 'budweiser', 'com', 'red', 'bull', 'é', 'um', 'caminho', 'sem', 'volta', 'deixa', 'mal', '\\U0001f92d🍻🕺🏼', 'promodojaca', 'jogo', 'do', 'mengão', 'amanhã', 'vem', 'ver', 'aquele', 'jogo', 'tomando', 'uma', 'budweiser', 'gelada', 'mega', 'promoção', 'pa', 'i', 'de', 'amanhã', 'no', 'bar', 'do', 'leo', 'n…', 'hailaffc', 'budweiser', 'é', 'melhor', 'cerveja', 'e', 'nada', 'mais', 'impo', 'a', 'não', 'ser', 'minha', 'opinião', '1', 'welcome', 'bud', 'quem', 'for', 'com', 'camisa', 'do', 'eagles', 'ou', 'do', 'falcons', 'ganha', 'uma', 'budweiser', 'long', 'neck', '2', 'preço', 'da', 'pint', 'reduzido', 'pint', 'lager', 'schornstein', 'por', '11', '90', 'mais', 'barato', 'do', 'que', 'long', 'neck', '3', 'balde', 'promocional', 'balde', 'de', 'budweiser', 'compre', '5', 'leve', '6', 'noite', 'toda', 'marianycostaa', 'budweiser', 'é', 'melhor', 'cerveja', 'tnc', 'luizz', 'alb', 'prefiro', 'budweiser', 'qua', 'e', 'quinta', 'e', 'o', 'resto', 'do', 'feriadão', 'é', 'tudo', 'nosso', '🍻💸', 'rolezinho', 'q', 'dou', 'valor', '2', 'budweiser', 'no', 'mundial', 'r', '2', '99', 'cada', 'logo', 'na', 'esquina', 'do', 'mercado', 'tem', 'um', 'churrasquinho', 'de', 'elite', 'por', 'r', '5', '00', 'pronto', 'rolezão', 'top', 'com', 'farofa', 'por', 'r', '11', 'mais', 'em', 'compensação', 'bebemos', 'dois', 'packs', 'de', 'budweiser', '\\U0001f92d', 'não', 'tem', 'stella', 'vai', 'desce', 'budweiser', 'budweiser', 'é', 'melhor', 'cerveja', 'tnc', 'jogo', 'do', 'mengão', 'amanhã', 'vem', 'ver', 'aquele', 'jogo', 'tomando', 'uma', 'budweiser', 'gelada', 'mega', 'promoção', 'pa', 'i', 'de', 'amanhã', 'no', 'bar', 'do', 'leo', 'na', 'favelinha', 'indiana', 'https', 't', 'co', 'egkppepvkf', 'fato', 'inconteste', 'budweiser', 'é', 'melhor', 'cerveja', 'david3', 'rick', 'crlh', 'budweiser', 'com', 'red', 'bull', 'é', 'um', 'caminho', 'sem', 'volta', 'deixa', 'mal', '\\U0001f92d🍻🕺🏼', 'brenda', 'dias2', 'majuuleao', 'e', 'umas', 'budweiser', 'pra', 'acompanhar', '😍', 'marianycostaa', 'budweiser', 'é', 'melhor', 'cerveja', 'tnc', 'q', 'skol', 'oq', 'quero', 'budweiser', 'https', 't', 'co', 'fsiaijrd6l', 'budweiser', 'é', 'melhor', 'cerveja', 'e', 'nada', 'mais', 'impo', 'a', 'não', 'ser', 'minha', 'opinião', 'ohonestovictor', 'patriotszueira', 'raidersbrazil', 'vamo', 'bate', 'uma', 'aposta', 'valendo', 'um', 'pack', 'de', 'budweiser', 'o', 'time', 'q', 'tiver', 'recorde', 'menor', 'dos', 'dois', 'um', 'compra', 'as', 'cervas', 'pro', 'outro', 'vou', 'ficar', 'deitada', 'mais', '10', 'minutos', 'e', 'vou', 'levantar', 'e', 'ir', 'na', 'minha', 'mãe', 'tomar', 'uma', 'budweiser', 'e', 'vou', 'dar', 'uma', 'passada', 'no', 'premium', 'só', 'p', 'não', 'perder', 'o', 'costume', 'terçou', 'acho', 'que', 'vou', 'comprar', 'uma', 'dúzia', 'de', 'budweiser', 'pra', 'levar', 'para', 'muriqui', 'se', 'for', '🤔', 'pxmile', 'só', 'umas', 'budweiser', 'agora', 'o', 'que', 'preciso', 'nesse', 'instante', 'é', 'só', 'uma', 'caixa', 'de', 'budweiser', 'uns', 'limões', 'e', 'sal', 'bdosanjos1', 'só', 'pq', 'não', 'posso', 'beber', 'tem', 'budweiser', '😞', 'abri', 'geladeira', 'e', 'tá', 'lotada', 'de', 'budweiser', 'kkkkkkkkkkkk', 'tenho', 'ce', 'eza', 'que', 'foi', 'bárbara', 'ela', 'não', 'pode', 'ir', 'no', 'mercado', 'que', 'volta', 'com', 'uns', 'fardin', 'sempre', '🤦🏻\\u200d♀️', 'sonhei', 'q', 'tava', 'tomando', 'uma', 'budweiser', 'e', 'acordei', 'na', 'vontade', 'tem', '12', 'garrafas', 'de', 'budweiser', 'no', 'm', 'qua', 'o', 'e', 'berna', 'compramos', '2', 'engradados', 'de', 'latão', 'de', 'budweiser', 'e', 'estamos', 'indo', 'pra', 'praia', 'vms', 'voltar', 'mal', 'kkk', 'budweiser', 'br', 'será', 'q', 'vc', 'poderia', 'me', 'patrocinar', 'giovanna', 'me', 'ensinou', 'gostar', 'de', 'budweiser', 'espero', 'que', 'toda', 'vez', 'que', 'saímos', 'ela', 'banque', 'o', 'balde', 'chegando', 'lá', 'já', 'vou', 'comprar', 'minha', 'caixinha', 'de', 'budweiser', 'vou', 'pedir', 'pizza', 'e', 'algumas', 'budweiser', 'sem', 'academia', 'sem', 'gente', 'por', 'pe', 'o', 'hj', 'só', 'quero', 'me', 'acabar', 'na', 'punheta', 'e', 'terminar', 'de', 'assistir', 'lúcifer', 'vou', 'tomar', 'minha', 'budweiser', 'bem', 'tranks', 'flw', 'churrasquinho', 'e', 'budweiser', 'domingo', 'de', 'leve', '🔥🤙', 'um', 'dia', 'de', 'sol', 'praia', 'uma', 'budweiser', 'e', 'um', 'arrumadinho', 'não', 'me', 'fariam', 'mal', 'minha', 'mãe', 'falando', 'dos', 'adolescentes', 'de', 'hj', 'em', 'dia', 'dão', '10', 'pila', 'querendo', 'picanha', 'e', 'budweiser', 'rapaz', 'tomei', 'uma', 'budweiser', 'e', 'já', 'tô', 'tonta', 'pqp🙅😂😂', 'mathdenadai', 'no', 'comunismo', 'só', 'vai', 'ter', 'budweiser', 'djdiegofaixa', 'era', 'só', 'umas', 'budweiser', 'só', 'promodojaca', 'jogo', 'do', 'mengão', 'amanhã', 'vem', 'ver', 'aquele', 'jogo', 'tomando', 'uma', 'budweiser', 'gelada', 'mega', 'promoção', 'pa', 'i', 'de', 'amanhã', 'no', 'bar', 'do', 'leo', 'n…', 'e', '20', 'reais', 'o', 'balde', 'de', 'latão', 'ou', 'de', 'budweiser', 'na', 'festa', 'do', 'cinco', 'com', 'toda', 'ce', 'eza', 'vou', 'chegar', 'me', 'casa', 'mal', 'kkkkkkkkkkkk', 'aqui', 'em', 'casa', 'tá', 'cheio', 'de', 'budweiser', 'utilidade', 'pública', 'budweiser', 'está', '2', '89', 'no', 'super', 'market', 'aaaaaaaaaaa', 'pena', 'que', 'estou', 'na', 'hora', 'para', 'ir', 'trabalhar', 'porque', 'queria', 'muito', 'comprar', '😩', 'como', 'você', 'gosta', 'que', 'as', 'pessoas', 'cheguem', 'em', 'você', '—', 'gosto', 'que', 'cheguem', 'me', 'dando', 'uma', 'budweiser', 'ou', 'uma', 'dose', 'de', 'tequila', 'https', 't', 'co', 'gx4dqtfyuq', 'ruan7', 'crf', 'brahmacerveja', 'antarctica', 'budweiser', 'br', 'eisenbahn', 'uma', 'maravilha', 'gstz', 'demais', 'fechando', 'tercinha', 'com', 'umas', 'budweiser', 'e', 'sushi\\U0001f92d', 'que', 'onda', 'foi', 'essa', 'm', 'd', 'uuuus', 'nunca', 'mais', 'bebo', 'budweiser', 'to', 'desejando', 'uma', 'budweiser', 'e', 'uns', 'beck', '😖', 'imaginei', 'uma', 'budweiser', 'bem', 'gelada', 'agora', 'só', 'que', 'lembrei', 'que', 'não', 'posso', 'beber', '🙄💔', 'dudda', 'linda08', 'ta', 'e', 'yasmim', 'd', 'cara', 'quente', 'por', 'causa', 'de', 'uma', 'budweiser', 'acordei', 'c', 'uma', 'dor', 'de', 'cabeça', 'do', 'crlh', 'sabia', 'q', 'ia', 'da', 'merda', 'misturar', 'brahma', 'e', 'budweiser', '🤦🏽\\u200d♀️', 'não', 'podia', 'gastar', 'mais', 'nossa', 'budweiser', 'estava', 'na', 'promoção', 'por', '2', '00', 'lata', 'gente', '2', '00', 'não', 'resisti', 'vontade', 'de', 'tomar', 'uma', 'budweiser', 'juro', 'uma', 'long', 'neck', 'só', 'lucasa', 'm', 'o', 'hominho', 'ta', 'muito', 'burguês', 'de', 'tarde', 'é', 'suquinho', 'de', 'morango', 'e', 'agora', 'é', 'budweiser', 'cadê', 'minha', 'mãe', 'com', 'as', 'budweiser', 'ontem', 'brahma', 'desc', 'muito', 'mal', 'depois', 'q', 'bebi', 'mt', 'budweiser', 'ketlengeovana4', 'luizacec1', 'michael73389240', 'e', 'ainda', 'aturar', 'minha', 'amante', 'loura', 'budweiser', 'só', 'umas', 'budweiser', 'agora', 'era', 'só', 'umas', 'budweiser', 'agora', '😌', 'queria', 'tá', 'como', 'nesse', 'momento', 'só', 'q', 'tomando', 'uma', 'budweiser', 'https', 't', 'co', 'etzingxwnc', 'lethicia', 'brootou', 'aqui', 'em', 'casa', 'e', 'me', 'trouxe', 'risoles', 'e', 'budweiser', 'amo', 'ela', '🍻😍❤', 'hoje', 'ta', 'cara', 'da', 'budweiser', '😏', 'caralho', 'as', 'budweiser', 'e', 'as', 'cachaca', 'tao', 'tudo', 'no', 'm', 'qua', 'o', 'no', 'vontade', 'de', 'abrir', 'uma', 'tá', 'namorando', '—', 'tô', 'namorando', 'budweiser', 'sou', 'amante', 'da', 'skol', 'beats', 'https', 't', 'co', 'lyqwk6hkcs', 'to', 'tomando', 'uma', 'budweiser', 'pra', 'dormir', 'bem', 'budweiser', 'em', 'lata', 'é', 'horrível', 'bagulho', 'aguado', 'da', 'porr', 'exijo', 'que', 'mudem', 'cor', 'da', 'latinha', 'de', 'brahma', 'não', 'sou', 'obrigado', 'beber', 'budweiser', 'e', 'o', 'pessoal', 'pensar', 'que', 'é', 'brahma', 'tô', 'namorando', 'budweiser', 'e', 'sou', 'amantes', 'da', 'skol', 'beats', '🎶🎶', 'a', 'gnt', 'acostuma', 'na', 'kaiser', 'daí', 'quando', 'passa', 'uma', 'noite', 'tomando', 'budweiser', 'chega', 'até', 'estranhar', 'tem', 'uma', 'caixa', 'de', 'budweiser', 'na', 'minha', 'gaveta', 'e', 'vou', 'guardar', 'ela', 'no', 'carro', 'antes', 'que', 'abra', 'e', 'beba', 'xubiules', 'você', 'é', 'tão', 'gostosa', 'parece', 'uma', 'budweiser', 'geladinha', 'hora', 'do', 'almoço', 'e', 'tô', 'pensando', 'em', 'uma', 'budweiser', 'gelada', '🙆🏻\\u200d♂️', 'budweiser', 'br', 'patrocina', 'o', 'coleguinha', 'aqui', '&lt', '3', 'https', 't', 'co', '9tahjjoovx', 'não', 'sou', 'jorge', 'e', 'math', 's', 'pra', 'sossegar', 'vivo', 'naquele', 'pique', 'tô', 'namorando', 'budweiser', 'sou', 'amante', 'da', 'skol', 'beats', 'viciadanessamusica', 'm', 'domingo', 'comendo', 'pipoca', 'tomando', 'uma', 'budweiser', 'e', 'assistindo', 'largados', 'e', 'pelados', 'domingou', 'por', 'aqui', 'btrzfontenele', 'patriota', 'jotachico', 'ispoque', 'pedro', 'lucas', 'bb', 'bebendo', 'algo', 'que', 'não', 'seja', 'budweiser', 'pra', 'mim', 'é', 'algo', 'icônico', 'vera', 'budweiser', 'é', 'melhor', 'promodojaca', 'jogo', 'do', 'mengão', 'amanhã', 'vem', 'ver', 'aquele', 'jogo', 'tomando', 'uma', 'budweiser', 'gelada', 'mega', 'promoção', 'pa', 'i', 'de', 'amanhã', 'no', 'bar', 'do', 'leo', 'n…', 'tá', 'descendo', 'budweiser', 'geladinha', 'aqui', 'na', 'praia', '🎈🍻', 'm', 'tio', 'acordou', 'agora', '11', '24', 'e', 'foi', 'tomar', 'café', 'com', 'o', 'que', 'vocês', 'acham', 'que', 'ele', 'beb', 'enquanto', 'comia', 'ovo', 'frito', '1', 'café', '2', 'suco', '3', 'café', 'com', 'leite', '4', 'budweiser', 'vocês', 'tão', 'tomando', 'budweiser', 'errado', 'zoiopravcs', 'cerveja', 'budweiser', 'ta', 'um', '1', '99', 'no', 'atacadão', 'acho', 'que', 'não', 'estou', 'mais', 'estressada', 'dahonda57', 'mo', 'tempão', 'sem', 'beber', 'umas', 'budweiser', '🤔', 'tô', 'viciando', 'em', 'budweiser', '🍺🖤', 'pensando', 'muito', 'numa', 'budweiser', 'agora', 'tô', 'namorando', 'budweiser', 'sou', 'amante', 'da', 'skol', 'beats', 'hahaha🎶😷😂😂', 'https', 't', 'co', 'hxallrp9qd', 'um', 'minuto', 'com', 'budweiser', 'que', 'você', 'gosta', 'vale', 'mais', 'do', 'que', 'anos', 'tomando', 'bavaria', 'que', 'não', 'te', 'faz', 'bem', 'https', 't', 'co', 'tpfffcsfsu', 'mano', 'o', 'produtor', 'veio', 'aqui', 'deixar', 'amostra', 'numa', 'caixa', 'de', 'budweiser', 'kkkkkkkkkkkkkk', 'só', 'queria', 'beber', 'umas', 'budweiser', 'neste', 'feriadinho', 'mesmo', 'rayhrds', 'utilidade', 'pública', 'budweiser', 'está', '2', '89', 'no', 'super', 'market', 'aaaaaaaaaaa', 'pena', 'que', 'estou', 'na', 'hora', 'para', 'ir', 'trabalhar', 'porque', 'qu…', 'chamo', 'pessoa', 'pra', 'passar', 'noite', 'toda', 'cmg', 'e', 'ainda', 'recebo', 'com', 'netflix', 'e', 'latinha', 'de', 'budweiser', 'alguém', 'pode', 'me', 'explicar', 'como', 'é', 'que', 'ainda', 'tô', 'solteira', 'gabi', 'persinoti', 'bela', 'combinação', 'só', 'mudaria', 'budweiser', 'pela', 'império', 'luizakathe', 'simmm', 'depois', 'de', 'uma', 'budweiser', 'kkk❤', 'ta', 'e', 'yasmim', 'd', 'cara', 'quente', 'por', 'causa', 'de', 'uma', 'budweiser', 'agora', 'só', 'falta', 'budweiser', 'br', 'me', 'mandar', 'mimos', 'assim', 'como', 'manda', 'pra', 'd', 'sa', 'malfeitona', 'saahfavoretti', 'era', 'só', 'uma', 'budweiser', 'geladinha', '😍', 'tá', 'rolando', 'um', 'camarão', 'frito', 'acompanhado', 'de', 'umas', 'budweiser', 'bebendo', 'umas', 'budweiser', 'com', 'o', 'amigo', '🍻', 'sm', 'vick', 'brahma', 'budweiser', 'amstel', 'horas', 'intermináveis', 'de', 'dor', 'de', 'cabeça', 'não', 'recomendo', '😪', 'só', 'precisava', 'de', 'uma', 'massagem', 'nas', 'minhas', 'costas', 'com', 'óleo', 'corporal', 'refrescante', 'e', 'uma', 'budweiser', 'é', 'pedir', 'muito', '😣', 'já', 'tô', 'na', 'quinta', 'budweiser', 'm', 'irmão', 'comprou', 'várias', '😋', 'gastamos', '350', 'reais', 'em', 'combo', 'de', 'budweiser', 'la', 'na', 'royal', 'só', 'uma', 'budweiser', 'rd', 'e', 'um', 'pagodinho', 'relíquia', 'na', 'casa', 'da', 'irmã', 'pr', 'salvar', 'o', 'domingão', '🍻', 'budweiser', 'de', 'promoção', 'nem', 'vou', 'mentir', 'adoro', '🤤', 'já', 'achei', 'várias', 'budweiser', 'na', 'geladeira', 'só', 'uma', 'budweiser', 'só', 'uma', 'budweiser', 'bem', 'gelada', '💔😋', 'xubiules', 'você', 'é', 'tão', 'gostosa', 'parece', 'uma', 'budweiser', 'geladinha', 'e', 'q', 'descobri', 'q', 'budweiser', 'não', 'é', 'ruim', 'só', 'queria', 'beber', 'uma', 'budweiser', 'e', 'cu', 'ir', 'uma', 'piscina', 'só', 'isso', 'mãe', 'tem', 'antialérgico', 'não', 'mas', 'tem', 'budweiser', 'lukinhas', 'bbt', 'depois', 'de', 'ento', 'ar', 'o', 'caneco', 'no', 'casamento', 'de', 'ontem', 'com', 'original', 'e', 'budweiser', 'vai', 'ser', 'foda', 'voltar', 'pra', 'itaipava', 'e', 'proibida…', 'tô', 'namorando', 'budweiser', 'sou', 'amante', 'da', 'skol', 'beatsssssdd', 'depois', 'de', 'ento', 'ar', 'o', 'caneco', 'no', 'casamento', 'de', 'ontem', 'com', 'original', 'e', 'budweiser', 'vai', 'ser', 'foda', 'voltar', 'pra', 'itaipava', 'e', 'proibida', '🤦🏼\\u200d♂️🙁', 'roseirete', 'vou', 'tomar', 'um', 'gole', 'dessa', 'budweiser', 'pra', 'esquecer', 'os', 'problema', 'https', 't', 'co', 'pdvr92nidt', 'cerveja', 'budweiser', 'ta', 'um', '1', '99', 'no', 'atacadão', 'acho', 'que', 'não', 'estou', 'mais', 'estressada', 'coisas', 'leves', 'desce', 'budweiser', '😌', 'desc', 'muita', 'budweiser', 'pela', 'dubai', 'vc', 'tá', 'namorando', '—', 'to', 'namorando', 'budweiser', 'sou', 'amante', 'da', 'skol', 'beats', 'https', 't', 'co', 'd8mxwmzgxn', 'segundou', 'namorando', 'budweiser', 'de', 'conchinha', 'com', 'solidão', 'pra', 'hoje', 'queria', 'uma', 'bola', 'de', 'haxixe', 'do', 'tamanho', 'de', 'uma', 'cebola', 'e', 'umas', 'budweiser', 'dudaviegaas', 'só', 'budweiser', 'e', 'coisared', 'fiz', 'listinha', 'de', 'supermercado', 'pro', 'feriado', 'e', 'coloquei', '2', 'caixinha', 'de', 'budweiser', 'minha', 'mãe', 'ench', 'geladeira', 'de', 'budweiser', 'doncaslu1', 'skol', 'já', 'foi', 'cerveja', 'do', 'momento', 'depois', 'antarctica', 'depois', 'as', 'gringas', 'budweiser', 'heineken', 'agora', 'é', 'brahma', 'todo', 'mundo', 'só', 'b…', 'budweiser', 'cerveja', 'que', 'mais', 'da', 'ressaca', 'acabei', 'de', 'descobrir', 'que', 'não', 'dá', 'pra', 'misturar', 'brahma', 'budweiser', 'e', 'stela', '💔😭', 'promodojaca', 'jogo', 'do', 'mengão', 'amanhã', 'vem', 'ver', 'aquele', 'jogo', 'tomando', 'uma', 'budweiser', 'gelada', 'mega', 'promoção', 'pa', 'i', 'de', 'amanhã', 'no', 'bar', 'do', 'leo', 'n…', 'bs', 'hurley', 'hoje', 'ta', 'cara', 'da', 'budweiser', '😏', 'olha', 'os', 'puto', 'trouxeram', 'um', 'cooler', 'cheio', 'de', 'corona', 'vou', 'esconder', 'minha', 'budweiser', 'humilhou', 'pagamento', 'cair', 'na', 'conta', 'vou', 'te', 'fazer', 'feliz', 'um', 'cooler', 'de', 'corona', 'é', 'por', 'minha', 'conta', 'tomei', 'uma', 'budweiser', 'e', 'comi', 'uma', 'trakinas', 'agr', 'de', 'noite', 'alice', 'comprou', 'pra', 'mim', 'só', 'uma', 'picanha', 'é', 'uma', 'budweiser', '🌼🌼🌼', 'morenajordao', 'luizakathe', 'simmm', 'depois', 'de', 'uma', 'budweiser', 'kkk❤', 'essa', 'budweiser', 'nesse', 'sol', 'tá', 'descendo', 'igual', 'água', '😅', 'final', 'do', 'dia', 'tem', 'que', 'rolar', 'aquela', 'budweiser', 'maconha', 'sexo', 'budweiser', 'ficar', 'agarrada', 'na', 'gata', 'quer', 'domingo', 'melhor', 'tô', 'com', 'tanta', 'vontade', 'de', 'tomar', 'budweiser', 'que', 'boca', 'até', 'saliva', 'semana', 'da', 'pátria', 'e', 'm', 's', 'companheiros', 'apenas', 'querem', 'se', 'embriagar', 'ao', 'máximo', 'no', 'feriado', 'malditos', 'inglórios', 'kkk', 'e', 'o', 'pior', 'querem', 'budweiser', '🖕🏻acho', 'que', 'não', 'tenho', 'escolha', '😪', 'além', 'da', 'mãe', 'ter', 'comprado', 'muito', 'mais', 'comida', 'do', 'que', 'coloquei', 'na', 'lista', 'ela', 'também', 'trouxe', 'um', 'fardo', 'de', 'budweiser', 'ice', 'duas', 'caixas', 'de', 'bis', 'duas', 'barras', 'de', 'chocolate', 'e', 'uma', 'caixa', 'uma', 'caixa', 'de', 'gominhas', 'é', 'o', 'paraíso', 'gabi', 'persinoti', 'torresmo', 'budweiser', 'e', 'palmeiras', '😍😍', 'm', 'pai', 'comprou', 'exatamente', 'todas', 'as', 'budweiser', 'geladas', 'do', 'mercado', 'm', 'sonho', 'é', 'ir', 'pro', 'texas', 'ouvindo', 'uns', 'modão', 'country', 'bebendo', 'budweiser', '👀', 'https', 't', 'co', 'eydh9acalx', 'pra', 'quem', 'disse', 'que', 'não', 'ia', 'beber', 'hoje', 'já', 'tomei', 'umas', '7', 'budweiser', 'billy', 'currington', 'budweiser', 'e', 'paiero', 'porq', 'sou', 'um', 'corno', 'country', 'tomando', 'uma', 'budweiser', 'e', 'fumando', 'um', 'boldin', 'ué', 'não', 'tinha', 'brahma', 'no', 'camarote', 'aposto', 'que', 'estava', 'o', 'msm', 'preço', 'da', 'budweiser', 'só', 'pra', 'roubar', 'do', 'povo', 'ce', 'eza', 'kadubala02', 'bgl', 'é', 'nós', 'pegar', 'aquele', 'pack', 'de', '24', 'budweiser', 'xubiules', 'você', 'é', 'tão', 'gostosa', 'parece', 'uma', 'budweiser', 'geladinha', 'ainda', 'bem', 'que', 'tem', 'budweiser', 'na', 'geladeira', 'se', 'caso', 'não', 'rolar', 'praia', '💨🍺', 'mthad', 'rdgz', 'era', 'só', 'uns', 'baseado', 'no', 'litoral', 'carioca', 'acompanhado', 'de', 'umas', 'budweiser', 'geladinha', 'uma', 'caixinha', 'de', 'som', 'tocando', 'set', 'mixado', 'do…', 'a', 'piscina', 'já', 'tem', 'falta', 'budweiser', 'e', 'autoestima', 'pra', 'ir', 'tomar', 'banho', 'de', 'sunga', 'https', 't', 'co', 'qsfvawspjt', 'emotionalsesh', 'saudade', 'do', 'dia', 'que', 'fiquei', 'amigo', 'do', 'paulin', 'cheguei', 'no', 'cilada', 'ele', 'tomando', 'uma', 'budweiser', 'compa', 'ilhou', 'um', 'gole', 'foi…', 'brahma', 'budweiser', 'amstel', 'horas', 'intermináveis', 'de', 'dor', 'de', 'cabeça', 'não', 'recomendo', '😪', 'ganhei', 'uma', 'budweiser', 'do', 'm', 'pai', '\\U0001f9e1', 'sabia', 'que', 'essa', 'terça', 'feira', 'de', 'frio', 'não', 'ia', 'acabar', 'mal', '🤤', 'https', 't', 'co', 'kbam6hybuc', 'você', 'acredita', 'em', 'alma', 'gêmea', '—', 'acredito', 'até', 'hoje', 'amo', 'budweiser', 'desde', 'primeira', 'vez', 'que', 'vi', 'https', 't', 'co', 'khy9ns3zm4', 'com', 'o', 'boy', 'já', 'bebemos', 'uma', 'budweiser', 'e', 'uma', 'devassa', '🍻😎', 'david3', 'rick', 'crlh', 'budweiser', 'com', 'red', 'bull', 'é', 'um', 'caminho', 'sem', 'volta', 'deixa', 'mal', '\\U0001f92d🍻🕺🏼', 'maryyysantana', 'fazendo', 'propaganda', 'da', 'budweiser', '😂😂', 'https', 't', 'co', '4kw5onep7s', 'desejando', 'uma', 'budweiser', 'geladíssima', 'nesse', 'momento', 'vou', 'tomar', 'umas', 'budweiser', 'pra', 'ficar', 'mec🍻', 'david3', 'rick', 'crlh', 'budweiser', 'com', 'red', 'bull', 'é', 'um', 'caminho', 'sem', 'volta', 'deixa', 'mal', '\\U0001f92d🍻🕺🏼', 'só', 'budweiser', 'caipirinha', '🙅🏽\\u200d♀️', 'ainda', 'sobrou', 'umas', 'brahma', 'e', 'umas', 'budweiser', 'mais', 'tarde', 'vai', 'descer', 'gelo', 'dnv', 'crlh', 'budweiser', 'com', 'red', 'bull', 'é', 'um', 'caminho', 'sem', 'volta', 'deixa', 'mal', '\\U0001f92d🍻🕺🏼', 'm', 'jantar', 'hj', 'é', 'pão', 'c', 'manteiga', 'e', 'budweiser', 'pq', 'não', 'tem', 'mais', 'nd', 'p', 'beber', 'em', 'casa', 'como', 'vim', 'parar', 'aq', 'papo', 'de', '10', 'baldes', 'de', 'budweiser', 'ontem', '2', 'combo', 'de', 'vodka', 'e', '1', 'whisky', 'tô', 'na', 'merda', 'agora', 'coloquei', 'mais', '6', 'budweiser', 'pra', 'gelar', 'pra', 'mim', 'tomar', 'kk', 'dtelles99', 'lá', 'em', 'casa', 'tem', 'budweiser', 'kkk', 'vim', 'tatua', 'tá', 'descendo', 'budweiser', '🍻', 'to', 'o', 'dia', 'todo', 'vendo', 'netflix', 'e', 'bebendo', 'budweiser', 'ja', 'me', 'encontro', 'um', 'lixo', 'de', 'ser', 'humano', '😂🙈', 'aaaeee', 'pizza', 'de', 'milho', 'e', 'po', 'uguesa', 'pra', 'fechar', 'noite', 'e', 'umas', 'budweiser', 'muito', 'calmo', 'de', 'fato', 'saahfavoretti', 'era', 'só', 'uma', 'budweiser', 'geladinha', '😍', 'to', 'afim', 'de', 'beber', 'uma', 'budweiser', 'e', 'f1', 'tinha', 'uma', 'budweiser', 'na', 'geladeira', 'tomei', 'agr', 'm', 'pai', 'chegou', 'procurando', 'ela', 'fud', 'uu', 'baixa', 'o', 'preço', 'da', 'budweiser', 'aí', 'crl', 'alô', 'budweiser', 'br', 'me', 'patrocina', 'https', 't', 'co', 'b4dks4adic', 'e', 'q', 'esqueci', 'q', 'tomei', 'remédio', 'ontem', 'e', 'fui', 'felizona', 'tomar', '“o', 'gole', 'de', 'budweiser', '“', 'hahahahhahah', 'rindo', 'mas', 'de', 'nervosu', 'só', 'uma', 'budweiser', 'geladinha', 'depois', 'dessa', 'aula', 'de', 'economia', 'política', 'porraaaannn', 'como', 'lidar', 'quando', 'sua', 'avó', 'só', 'quer', 'saber', 'de', 'budweiser', 'ervilhasgl', 'bryanamaralrc', 'kkkkkkkkk', 'm', 'bolso', 'não', 'aguenta', 'essa', 'nossa', 'paixão', 'por', 'budweiser', 'só', 'umas', 'budweiser', 'agora', 'poxaa', 'sonhei', 'com', 'umas', 'budweiser', 'que', 'triste', 'você', 'é', 'tão', 'gostosa', 'parece', 'uma', 'budweiser', 'geladinha', 'a', 'primeiras', 'coisa', 'que', 'vou', 'fazer', 'é', 'comprar', 'uma', 'budweiser', 'porque', 'não', 'está', 'dando', 'que', 'calor', 'm', 'd', 'sssss', '1', 'dólar', 'na', 'budweiser', 'é', 'muito', 'barato', 'quero', 'ir', 'pro', 'vai', 'toma', 'no', 'cu', 'como', 'amo', 'budweiser', 'melhor', 'cerveja', 'tô', 'namorando', 'budweiser', 'pagode', 'da', 'budweiser', 'tá', 'bom', 'na', 'amanhã', 'tenho', 'aula', 'já', 'coloquei', 'as', 'budweiser', 'pra', 'gelar', 'haha', 'namora', 'cmgu', '—', 'tô', 'namorando', 'budweiser', 'https', 't', 'co', 'edrmup71ud', 'porem', 'troco', 'budweiser', 'por', 'qualquer', 'outra', 'pois', 'da', 'ultima', 'vez', 'q', 'tomei', 'dela', 'tinha', 'uma', 'coisa', 'gosmenta', 'dentro', 'olivermsds', 'hoje', 'd', 'praia', 'e', 'budweiser', '🏄\\u200d♂️🍺', 'sabadao', 'sabeserbrasileiro', 'áries', '☀️', 'https', 't', 'co', '4pkzxrydgo', 'qual', 'é', 'melhor', 'budweiser', 'ou', 'brahma', 'pra', 'mim', 'fazer', 'm', 'niver', '🙌🏽😌🍻🎉🎊🎈', 'pxmile', 'só', 'umas', 'budweiser', 'agora']\n",
      "['souto', 'mc', 'anurbanshop', 'budweiser', 'br', 'chinaskioficial', 'rodrigo', 'ogi', 'navebeatz', 'esse', 'dia', 'gente', 'vai', 'trabalhar', 'numa', 'festa', 'niallhbra2', '📌|', 'niall', 'se', 'apresenta', 'hoje', 'no', 'budweiser', 'stage', 'em', 'toronto', 'no', 'canadá', 'capacidade', '16', '000', 'maren', 'morris', '8', '40', 'horário', 'de', 'br…', 'vem', 'com', 'lux', 'pulseiras', 'open', 'apenas', 'com', 'os', 'organizadores', 'amanhã', 'no', 'centro', 'são', 'só', '100', 'pulseira', 'nao', 'deem', 'bobeira', 'primeiro', 'lote', 'r', '40', '00', 'open', 'de', 'budweiser', 'https', 't', 'co', 'ifzcps73sw', 'pablo', 'crf10', 'brahmacerveja', 'antarctica', 'budweiser', 'br', 'eisenbahn', 'tem', 'k', 'o', 'não', 'kkkķkkk', 'ela', 'é', 'boa', 'mesmo', 'niallhbra2', '📌|', 'niall', 'se', 'apresenta', 'hoje', 'no', 'budweiser', 'stage', 'em', 'toronto', 'no', 'canadá', 'capacidade', '16', '000', 'maren', 'morris', '8', '40', 'horário', 'de', 'br…', 'brahma', 'latão', 'unidade', 'r', '4', '00', 'ou', '3', 'por', 'r', '11', '00', 'brahma', '600ml', 'r', '6', '50', 'antarctica', '600ml', 'r', '6', '50', 'budweiser', '600ml', 'r', '7', '00', 'budweiser', 'long', 'neck', 'r', '4', '00', 'msx', 'r', '10', '00', 'redbull', 'r', '8', '00', 'rua', '35', 'enfrente', 'o', 'ponto', 'final', 'do', '759', 'niallhbra2', '📌|', 'niall', 'se', 'apresenta', 'hoje', 'no', 'budweiser', 'stage', 'em', 'toronto', 'no', 'canadá', 'capacidade', '16', '000', 'maren', 'morris', '8', '40', 'horário', 'de', 'br…', 'esperando', 'm', 's', 'mimos', 'adidasbrasil', 'em', 'budweiser', 'basement', 'po', 'o', 'alegre', 'https', 't', 'co', 'guelm7l1yi', 'rafaelcincoo', 'balde', 'de', 'latão', 'e', 'budweiser', 'long', '19', '99', 'durante', 'todo', 'evento', 'e', 'open', 'bar', 'pra', 'elas', 'https', 't', 'co', 'mx6morewrk', 'luccams11', '💥', 'mais', 'um', 'estouro', 'da', 'agforcollege', '💥', 'contamos', 'com', 'os', 'melhores', 'djs', 'de', 'alvorada', 'dj', 'emmersonrr', 'e', 'djwilliambossle', '💰', 'ingre…', 'torvibird', 'é', 'hojeeeee', 'pau', 'quebra', 'papaaaaa', '🔥💃🏾💥😍', 'baile', 'da', 'secretum', 'balde', 'de', 'budweiser', '29', '99', 'noite', 'toda', 'balde', 'de', 'antarctica', '29', '99…', 'budweiser', 'liberada', 'até', '4', 'horas', 'da', 'manhã', 'luccams11', '💥', 'mais', 'um', 'estouro', 'da', 'agforcollege', '💥', 'contamos', 'com', 'os', 'melhores', 'djs', 'de', 'alvorada', 'dj', 'emmersonrr', 'e', 'djwilliambossle', '💰', 'ingre…', 'luccams11', '💥', 'mais', 'um', 'estouro', 'da', 'agforcollege', '💥', 'contamos', 'com', 'os', 'melhores', 'djs', 'de', 'alvorada', 'dj', 'emmersonrr', 'e', 'djwilliambossle', '💰', 'ingre…', 'torvibird', 'é', 'hojeeeee', 'pau', 'quebra', 'papaaaaa', '🔥💃🏾💥😍', 'baile', 'da', 'secretum', 'balde', 'de', 'budweiser', '29', '99', 'noite', 'toda', 'balde', 'de', 'antarctica', '29', '99…', 'rafaelcincoo', 'balde', 'de', 'latão', 'e', 'budweiser', 'long', '19', '99', 'durante', 'todo', 'evento', 'e', 'open', 'bar', 'pra', 'elas', 'https', 't', 'co', 'mx6morewrk', 'rhuanmiguel71', '🚨', 'só', 'brotar', 'rapaziada', '🚨', 'brahma', 'latão', 'unidade', 'r', '4', '00', 'ou', '3', 'por', 'r', '11', '00', 'brahma', '600ml', 'r', '6', '50', 'antarctica', '600ml', 'r', '6', '50…', 'anurbanshop', '06', '09', '20h', 'na', 'ã', 'urban', 'shop', 'da', 'consolação', 'com', 'welcome', 'drinks', 'por', 'budweiser', 'br', 'pa', 'ir', 'das', '22h', 'no', 'albe', 'a3', 'na', 'av', 'são…', 'promodojaca', 'jogo', 'do', 'mengão', 'amanhã', 'vem', 'ver', 'aquele', 'jogo', 'tomando', 'uma', 'budweiser', 'gelada', 'mega', 'promoção', 'pa', 'i', 'de', 'amanhã', 'no', 'bar', 'do', 'leo', 'n…', 'colis', 'motel', 'dia', '9', '9', 'tem', 'jogaço', 'em', 'poa', 'assista', 'ao', 'grenal', 'no', 'motel', 'colis', '⚽', 'venha', 'torc', 'pelo', 's', 'time', 'e', 'ganhe', 'porção', 'de', 'batatas', 'fri…', 'uma', 'noite', 'carioca', 'avalon🛡', 'club', '07', 'de', 'setembro', 'as', '23h', 'garrafa', 'de', 'vorus', 'e', 'balde', 'de', 'budweiser', 'r', '39', '90', 'até', '01h', 'com', 'nome', 'na', 'lista', 'ate', '00h30', 'r', '10', '00', '💃🏽', 'liberada', 'informações', 'reservas', 'lounges', 'e', 'nomes', 'na', 'lista', '27', '9', '9899', '8234', 'link', 'do', 'evento', 'https', 't', 'co', '89pis50kss', 'https', 't', 'co', 'f9joelyoer', 'torvibird', 'é', 'hojeeeee', 'pau', 'quebra', 'papaaaaa', '🔥💃🏾💥😍', 'baile', 'da', 'secretum', 'balde', 'de', 'budweiser', '29', '99', 'noite', 'toda', 'balde', 'de', 'antarctica', '29', '99…', 'niallhbra2', '📌|', 'hoje', 'é', 'o', 'aniversário', 'de', '25', 'anos', 'do', 'budweiser', 'stage', 'então', 'o', 'show', 'do', 'niall', 'será', 'gravado', 'flickerworldtou', 'oronto', 'https', '…', 'rafaelcincoo', 'balde', 'de', 'latão', 'e', 'budweiser', 'long', '19', '99', 'durante', 'todo', 'evento', 'e', 'open', 'bar', 'pra', 'elas', 'https', 't', 'co', 'mx6morewrk', '📲', '|', 'os', 'po', 'ões', 'do', 'budweiser', 'stage', 'local', 'do', 'show', 'desta', 'noite', 'já', 'foram', 'abe', 'os', 'flickerworldtou', 'oronto', 'https', 't', 'co', 'fvvyqxt0qn', 'luccams11', '💥', 'mais', 'um', 'estouro', 'da', 'agforcollege', '💥', 'contamos', 'com', 'os', 'melhores', 'djs', 'de', 'alvorada', 'dj', 'emmersonrr', 'e', 'djwilliambossle', '💰', 'ingre…', 'já', 'devo', 'ter', 'falado', 'antes', 'mas', 'esse', 'ketchup', 'da', 'budweiser', 'é', 'bem', 'bom', 'https', 't', 'co', '3qpr9jdh0q', 'quasemarcio', 'já', 'devo', 'ter', 'falado', 'antes', 'mas', 'esse', 'ketchup', 'da', 'budweiser', 'é', 'bem', 'bom', 'https', 't', 'co', '3qpr9jdh0q', 'dimenor34174963', 'muita', 'fé', 'começou', 'o', 'dia', 'mec', 'do', 'budweiser', 'https', 't', 'co', '8gnll1epjg', 'rafaelcincoo', 'balde', 'de', 'latão', 'e', 'budweiser', 'long', '19', '99', 'durante', 'todo', 'evento', 'e', 'open', 'bar', 'pra', 'elas', 'https', 't', 'co', 'mx6morewrk', 'um', 'domingo', 'bom', 'pra', 'mim', 'seria', 'em', 'um', 'apa', 'amento', 'comum', 'porém', 'organizado', 'em', 'algum', 'lugar', 'movimentado', 'de', 'sp', 'e', 'minha', 'mina', 'no', 'sofá', 'bebendo', 'budweiser', 'de', 'garrafinha', 'e', 'comendo', 'uns', 'petisco', 'a', 'gente', 'cantando', 'músicas', 'indie', 'enquanto', 'toco', 'violão', 'e', 'observo', 'o', 'rostinho', 'dela', 'aa', 'quero', 'passei', 'pela', 'encruzilhada', 'agora', 'e', 'vi', 'uma', 'oferenda', 'com', 'frango', 'farofa', 'e', 'budweiser', 'as', 'entidades', 'estão', 'se', 'tornando', 'o', 'q', 'mais', 'temia', 'jovens', 'q', 'pagam', 'de', 'alcoólatras', 'gourmet', 'marcelo270334', 'com', 'ce', 'eza', 'pra', 'vencer', 'ninguém', 'compra', 'essa', 'merda', 'não', 'vejo', 'hora', 'de', 'voltar', 'os', 'grandes', 'eventos', 'na', 'esplanada', 'bons', 'tempos', 'de', 'budweiser', 'e', 'brahma', 'niallhbra2', '📌|', 'hoje', 'é', 'o', 'aniversário', 'de', '25', 'anos', 'do', 'budweiser', 'stage', 'então', 'o', 'show', 'do', 'niall', 'será', 'gravado', 'flickerworldtou', 'oronto', 'https', '…', 'clafdl', 'budweiser', 'e', 'sou', 'amante', 'da', 'skol', 'beats', '🎶', 'fica', 'cantando', 'músicas', 'antiga', 'hein', 'luccams11', '💥', 'mais', 'um', 'estouro', 'da', 'agforcollege', '💥', 'contamos', 'com', 'os', 'melhores', 'djs', 'de', 'alvorada', 'dj', 'emmersonrr', 'e', 'djwilliambossle', '💰', 'ingre…', 'poxamandyy', 'passei', 'pela', 'encruzilhada', 'agora', 'e', 'vi', 'uma', 'oferenda', 'com', 'frango', 'farofa', 'e', 'budweiser', 'as', 'entidades', 'estão', 'se', 'tornando', 'o', 'q', 'mais…', 'primeiro', 'amor', 'câncer', 'relacionamento', 'mais', 'longo', 'escorpião', 'signo', 'da', 'mãe', 'libra', 'signo', 'do', 'pai', 'gêmeos', 'pior', 'relacionamento', 'leão', 'melhores', 'signos', 'leão', 'gêmeos', 'aquário', 'e', 'sagitário', 'm', 'coração', 'pe', 'ence', 'budweiser', 'brahma', 'skol', 'e', 'antá', 'ica', 'm', 'signo', 'sagitário', 'https', 't', 'co', 'izbbyieb4w', 'naile', 'pdattes', '📽️', '|', 'niall', 'cantando', 'drag', 'me', 'down', 'no', 'budweiser', 'stage', '5', 'de', 'setembro', 'no', 'canadá', 'flickerworldtou', 'oronto', 'https', 't', 'co', '…', 'niallhbra2', '📌|', 'niall', 'se', 'apresenta', 'hoje', 'no', 'budweiser', 'stage', 'em', 'toronto', 'no', 'canadá', 'capacidade', '16', '000', 'maren', 'morris', '8', '40', 'horário', 'de', 'br…', 'anurbanshop', '06', '09', '20h', 'na', 'ã', 'urban', 'shop', 'da', 'consolação', 'com', 'welcome', 'drinks', 'por', 'budweiser', 'br', 'pa', 'ir', 'das', '22h', 'no', 'albe', 'a3', 'na', 'av', 'são…', 'rhuanmiguel71', '🚨', 'só', 'brotar', 'rapaziada', '🚨', 'brahma', 'latão', 'unidade', 'r', '4', '00', 'ou', '3', 'por', 'r', '11', '00', 'brahma', '600ml', 'r', '6', '50', 'antarctica', '600ml', 'r', '6', '50…', 'ottolovi', 'gurizada', 'se', 'passou', '120', 'fardo', 'de', 'budweiser', '1440', 'latão', '681', 'litros', '100', 'litros…', 'é', 'só', 'entrar', 'tirar', '📷', 'rapidinho', 'e', 'sair', 'correndo', 'nem', 'atrapalha', 'fila', 'gentem', 'aboutlastnight', 'saturday', 'picture', 'mirror', 'look', 'mood', 'em', 'bar', 'da', 'budweiser', 'https', 't', 'co', 'lex9hcd4xe', 'apostei', 'cerveja', 'com', 'o', 'veio', 'sobre', 'o', 'resultado', 'de', 'cruzeiro', 'e', 'palmeiras', 'na', 'copa', 'do', 'brasil', 'se', 'o', 'cruzeiro', 'classifica', 'ganho', 'uma', 'caixa', 'de', 'budweiser', 'caso', 'contrário', 'ele', 'ganha', 'uma', 'de', 'kirin', 'soyloucaz', 'open', 'bar', '&amp', 'food', 'budweiser', 'pizzas', 'e', 'fritas', 'no', 'bar', 'do', 'morro', 'em', 'sapiranga', 'galera', 'open', 'bar', 'das', '00h', 'as', '04h', 'cerveja', 'budwe…', 's', 'perfil', 'foi', 'visto', 'por', '7', 'pessoas', 'nas', 'últimas', '5', 'horas', 'https', 't', 'co', 'ojl1ub4dav', 'luxpa', 'y1', 'vem', 'com', 'lux', 'pulseiras', 'open', 'apenas', 'com', 'os', 'organizadores', 'amanhã', 'no', 'centro', 'são', 'só', '100', 'pulseira', 'nao', 'deem', 'bobeira', 'primei…', '📌|', 'hoje', 'é', 'o', 'aniversário', 'de', '25', 'anos', 'do', 'budweiser', 'stage', 'então', 'o', 'show', 'do', 'niall', 'será', 'gravado', 'flickerworldtou', 'oronto', 'https', 't', 'co', 'cujwegpnxs', 'pela', 'primeira', 'vez', 'no', 'taipa', 'mix', 'pagode', 'do', 'vovô', '✌️', 'muito', 'samba', 'acompanhado', 'de', '🥘', 'feijoada', '🥘', '✨balde', 'c', '10', 'budweiser', 'r', '70', '00', '✨balde', 'c', '10', 'skol', 'r', '45', '00', '✨double', 'caipirinha', 'avenida', 'fernando', 'mendes', 'de', 'https', 't', 'co', 'uuudcwbyrb', 'torvibird', 'é', 'hojeeeee', 'pau', 'quebra', 'papaaaaa', '🔥💃🏾💥😍', 'baile', 'da', 'secretum', 'balde', 'de', 'budweiser', '29', '99', 'noite', 'toda', 'balde', 'de', 'antarctica', '29', '99…', 'bruno', 'bom', 'jesus', 'budweiser', 'gatinha', 'muito', 'tímida', 'patinha', 'no', 'truco', 'perigosamente', '“não', 'vou', 'vender', 'esses', 'docinhos', 'dá', 'preguiça”', 'correio', 'elegante', 'narga', 'sempre', 'me', 'troca', 'pelo', 'te', 'amo', 'alô', 'so', 'pra', 'falar', 'que', 'essa', 'semana', 'te', 'feriadão', 'val', '🤙🤙', 'ainda', 'é', 'segunda', 'mas', 'cabeça', 'já', 'está', 'nos', 'roles', 'dos', 'fds', '😂😂', 'e', 'por', 'ai', 'já', 'sabem', 'qual', 'boa', 'em', 'budweiser', 'basement', 'curitiba', 'https', 't', 'co', '4tic4rszys', 'rafaelcincoo', 'balde', 'de', 'latão', 'e', 'budweiser', 'long', '19', '99', 'durante', 'todo', 'evento', 'e', 'open', 'bar', 'pra', 'elas', 'https', 't', 'co', 'mx6morewrk', 'rafaelcincoo', 'balde', 'de', 'latão', 'e', 'budweiser', 'long', '19', '99', 'durante', 'todo', 'evento', 'e', 'open', 'bar', 'pra', 'elas', 'https', 't', 'co', 'mx6morewrk', 'é', 'só', 'entrar', 'tirar', '📷', 'rapidinho', 'e', 'sair', 'correndo', 'nem', 'atrapalha', 'fila', 'gentem', 'aboutlastnight', 'saturday', 'picture', 'mirror', 'look', 'mood', 'em', 'bar', 'da', 'budweiser', 'https', 't', 'co', 'lll4myzebx', 'gostei', 'de', 'um', 'vídeo', 'youtube', 'https', 't', 'co', 'kn0hysuvbx', 'munnick', 'boiler', 'room', 'x', 'budweiser', 'cape', 'town', 'dj', 'set', 'torvibird', 'é', 'hojeeeee', 'pau', 'quebra', 'papaaaaa', '🔥💃🏾💥😍', 'baile', 'da', 'secretum', 'balde', 'de', 'budweiser', '29', '99', 'noite', 'toda', 'balde', 'de', 'antarctica', '29', '99…', 'ottolovi', 'gurizada', 'se', 'passou', '120', 'fardo', 'de', 'budweiser', '1440', 'latão', '681', 'litros', '100', 'litros…', 'offspring', 'conce', 'photos', 'budweiserstage', 'https', 't', 'co', '9uy0fbvhxj', 'neverendingsummer', '🚨cerveja', 'budweiser', 'lata', '269', 'ml', 'pack', 'c', '8', 'unidades', 'na', 'promoção', 'r', '15', '99', 'bebidasnatal', 'promocao', 'budweiser', 'https', 't', 'co', 'sxwlnn61yn', 'gurizada', 'se', 'passou', '120', 'fardo', 'de', 'budweiser', '1440', 'latão', '681', 'litros', '100', 'litros', 'de', 'vdk', '300', 'litros', 'de', 'energético', 'vinhão', 'pra', 'onde', 'foi', 'tudo', 'isso', 'mais', 'bem', 'mais', 'de', '1000', 'litros', 'de', 'bira', 'contando', 'só', 'por', 'cima', 'status', 'de', 'visita', 'perfil', 'visualizado', '6', 'vezes', 'https', 't', 'co', 'ojl1ub4dav', 'rafaelcincoo', 'balde', 'de', 'latão', 'e', 'budweiser', 'long', '19', '99', 'durante', 'todo', 'evento', 'e', 'open', 'bar', 'pra', 'elas', 'https', 't', 'co', 'mx6morewrk', 'ontem', 'quebrei', 'minha', 'budweiser', 'quebrei', 'uma', 'vodka', 'e', 'pra', 'melhorar', 'quebrei', 'o', 'retrovisor', 'do', 'carro', 'de', 'um', 'cara', 'trabalho', 'para', 'pagar', 'as', 'minhas', 'merdas', 'mesmo🤦\\u200d♀️', 'luxpa', 'y1', 'vem', 'com', 'lux', 'pulseiras', 'open', 'apenas', 'com', 'os', 'organizadores', 'amanhã', 'no', 'centro', 'são', 'só', '100', 'pulseira', 'nao', 'deem', 'bobeira', 'primei…', '06', '09', '20h', 'na', 'ã', 'urban', 'shop', 'da', 'consolação', 'com', 'welcome', 'drinks', 'por', 'budweiser', 'br', 'pa', 'ir', 'das', '22h', 'no', 'albe', 'a3', 'na', 'av', 'são', 'luis', '272', 'com', 'pocket', 'show', 'chinaskioficial', 'rodrigo', 'ogi', 'e', 'set', 'por', 'navebeatz', 'murillo', 'e', 'allan', 'd', 'quer', 'ir', 'nomes', 'p', 'lista', 'anurbanshop', 'com', 'br', 'https', 't', 'co', 'huwimtfswb', 'rafaelcincoo', 'balde', 'de', 'latão', 'e', 'budweiser', 'long', '19', '99', 'durante', 'todo', 'evento', 'e', 'open', 'bar', 'pra', 'elas', 'https', 't', 'co', 'mx6morewrk', 'qual', 'inicial', 'do', 's', 'namorado', '—', 'b', 'de', 'budweiser', 'https', 't', 'co', 'h0dst938pl', 'ottolovi', 'gurizada', 'se', 'passou', '120', 'fardo', 'de', 'budweiser', '1440', 'latão', '681', 'litros', '100', 'litros…', 'agroanjo', 'budweiser', 'br', 'viu', 'viu', 'viu', 'gostei', 'de', 'um', 'vídeo', 'youtube', 'https', 't', 'co', 'r6fqbdoce5', 'luke', 'boiler', 'room', 'x', 'budweiser', 'cape', 'town', 'dj', 'set', 'naile', 'pdattes', '📽️', '|', 'niall', 'cantando', 'drag', 'me', 'down', 'no', 'budweiser', 'stage', '5', 'de', 'setembro', 'no', 'canadá', 'flickerworldtou', 'oronto', 'https', 't', 'co', '…', 'cerveja', 'budweiser', 'lata', '350ml', 'r', '2', '49', 'preços', 'válidos', 'para', '05', '09', '2018', 'https', 't', 'co', 'vvs7ch9i1x', 'niallhbra2', '📌|', 'niall', 'se', 'apresenta', 'hoje', 'no', 'budweiser', 'stage', 'em', 'toronto', 'no', 'canadá', 'capacidade', '16', '000', 'maren', 'morris', '8', '40', 'horário', 'de', 'br…', 'muita', 'fé', 'começou', 'o', 'dia', 'mec', 'do', 'budweiser', 'https', 't', 'co', '8gnll1epjg', 'torvibird', 'é', 'hojeeeee', 'pau', 'quebra', 'papaaaaa', '🔥💃🏾💥😍', 'baile', 'da', 'secretum', 'balde', 'de', 'budweiser', '29', '99', 'noite', 'toda', 'balde', 'de', 'antarctica', '29', '99…', 'torvibird', 'é', 'hojeeeee', 'pau', 'quebra', 'papaaaaa', '🔥💃🏾💥😍', 'baile', 'da', 'secretum', 'balde', 'de', 'budweiser', '29', '99', 'noite', 'toda', 'balde', 'de', 'antarctica', '29', '99…', 'niallhbra2', '📌|', 'hoje', 'é', 'o', 'aniversário', 'de', '25', 'anos', 'do', 'budweiser', 'stage', 'então', 'o', 'show', 'do', 'niall', 'será', 'gravado', 'flickerworldtou', 'oronto', 'https', '…', 'torvibird', 'é', 'hojeeeee', 'pau', 'quebra', 'papaaaaa', '🔥💃🏾💥😍', 'baile', 'da', 'secretum', 'balde', 'de', 'budweiser', '29', '99', 'noite', 'toda', 'balde', 'de', 'antarctica', '29', '99…', 'gostei', 'de', 'um', 'vídeo', 'youtube', 'https', 't', 'co', 'r0hhabl1ej', 'boiler', 'room', 'x', 'budweiser', 'cape', 'town', 'dj', 'set', 'anurbanshop', '06', '09', '20h', 'na', 'ã', 'urban', 'shop', 'da', 'consolação', 'com', 'welcome', 'drinks', 'por', 'budweiser', 'br', 'pa', 'ir', 'das', '22h', 'no', 'albe', 'a3', 'na', 'av', 'são…', 'o', 'carro', 'mais', 'bonito', 'da', 'nascar', 'na', 'minha', 'opinião', 'budweiser', 'de', 'kevin', 'harvick', 'em', '2014', 'nascarfoxspo', 's', 'https', 't', 'co', 'nlacw3twat', 'rafaelcincoo', 'balde', 'de', 'latão', 'e', 'budweiser', 'long', '19', '99', 'durante', 'todo', 'evento', 'e', 'open', 'bar', 'pra', 'elas', 'https', 't', 'co', 'mx6morewrk', 'torvibird', 'é', 'hojeeeee', 'pau', 'quebra', 'papaaaaa', '🔥💃🏾💥😍', 'baile', 'da', 'secretum', 'balde', 'de', 'budweiser', '29', '99', 'noite', 'toda', 'balde', 'de', 'antarctica', '29', '99…', 'fazendo', 'propaganda', 'da', 'budweiser', '😂😂', 'https', 't', 'co', '4kw5onep7s', '📌|', 'niall', 'se', 'apresenta', 'hoje', 'no', 'budweiser', 'stage', 'em', 'toronto', 'no', 'canadá', 'capacidade', '16', '000', 'maren', 'morris', '8', '40', 'horário', 'de', 'brasília', 'niall', '22', '00', 'horário', 'de', 'brasília', 'flickerworldtou', 'oronto', 'https', 't', 'co', '3kxr82tygo', 'bobjackk', 'lelecoutz', 'deisequintilia1', 'adrianasscamar1', 'haddad', 'fernando', 'manueladavila', 'dilmaresiste', 'petralhazuero', 'pgiolli', 'jeansena', 'pahega', 'malcomecks', 'psdbcinico', 'mpf', 'pgr', 'gosto', 'muuuuuuito', 'da', 'budweiser', 'original', 'tcheca', 'na', 'foto', 'ela', 'esta', 'ao', 'lado', 'da', 'fake', 'de', 'arroz', 'da', 'ab', 'inbev', 'https', 't', 'co', 'gqabq0dfnc', 'niallhbra2', '📌|', 'niall', 'se', 'apresenta', 'hoje', 'no', 'budweiser', 'stage', 'em', 'toronto', 'no', 'canadá', 'capacidade', '16', '000', 'maren', 'morris', '8', '40', 'horário', 'de', 'br…', 'niallhbra2', '📌|', 'niall', 'se', 'apresenta', 'hoje', 'no', 'budweiser', 'stage', 'em', 'toronto', 'no', 'canadá', 'capacidade', '16', '000', 'maren', 'morris', '8', '40', 'horário', 'de', 'br…', 'anurbanshop', '06', '09', '20h', 'na', 'ã', 'urban', 'shop', 'da', 'consolação', 'com', 'welcome', 'drinks', 'por', 'budweiser', 'br', 'pa', 'ir', 'das', '22h', 'no', 'albe', 'a3', 'na', 'av', 'são…', 'niallhbra2', '📌|', 'niall', 'se', 'apresenta', 'hoje', 'no', 'budweiser', 'stage', 'em', 'toronto', 'no', 'canadá', 'capacidade', '16', '000', 'maren', 'morris', '8', '40', 'horário', 'de', 'br…', 'tbt', 'vamos', 'para', 'mais', 'uma', 'temporada', 'com', 'o', 'melhor', 'time', 'lakitasodre', '❤️🏈', 'nflisback', 'itacklelikeagirl', 'budweiser', 'basement', 'https', 't', 'co', '2tu9dbyuys', 'luxpa', 'y1', 'vem', 'com', 'lux', 'pulseiras', 'open', 'apenas', 'com', 'os', 'organizadores', 'amanhã', 'no', 'centro', 'são', 'só', '100', 'pulseira', 'nao', 'deem', 'bobeira', 'primei…', 'como', 'chama', 'isso', 'amor', 'fanatismo', 'felicidade', 'amo', 'ficar', 'na', 'primeira', 'fila', 'budweiser', 'stage', 'https', 't', 'co', 'f4ady1dm4t', 'denilsonsucesso', 'pxx', 'looh', 'kkkkkkkkk', 'esse', 'era', 'm', 'medo', 'desse', 'budweiser', '🍺😋', 'niallhbra2', '📌|', 'hoje', 'é', 'o', 'aniversário', 'de', '25', 'anos', 'do', 'budweiser', 'stage', 'então', 'o', 'show', 'do', 'niall', 'será', 'gravado', 'flickerworldtou', 'oronto', 'https', '…', 'luxpa', 'y1', 'vem', 'com', 'lux', 'pulseiras', 'open', 'apenas', 'com', 'os', 'organizadores', 'amanhã', 'no', 'centro', 'são', 'só', '100', 'pulseira', 'nao', 'deem', 'bobeira', 'primei…', 'torvibird', 'é', 'hojeeeee', 'pau', 'quebra', 'papaaaaa', '🔥💃🏾💥😍', 'baile', 'da', 'secretum', 'balde', 'de', 'budweiser', '29', '99', 'noite', 'toda', 'balde', 'de', 'antarctica', '29', '99…', 'niallhbra2', '📌|', 'niall', 'se', 'apresenta', 'hoje', 'no', 'budweiser', 'stage', 'em', 'toronto', 'no', 'canadá', 'capacidade', '16', '000', 'maren', 'morris', '8', '40', 'horário', 'de', 'br…', 'anurbanshop', 'budweiser', 'br', 'chinaskioficial', 'rodrigo', 'ogi', 'navebeatz', 'ericapascoal', 'se', 'inscreve', 'com', 'nanda', 'torvibird', 'é', 'hojeeeee', 'pau', 'quebra', 'papaaaaa', '🔥💃🏾💥😍', 'baile', 'da', 'secretum', 'balde', 'de', 'budweiser', '29', '99', 'noite', 'toda', 'balde', 'de', 'antarctica', '29', '99…', 'luxpa', 'y1', 'vem', 'com', 'lux', 'pulseiras', 'open', 'apenas', 'com', 'os', 'organizadores', 'amanhã', 'no', 'centro', 'são', 'só', '100', 'pulseira', 'nao', 'deem', 'bobeira', 'primei…', 'rafaelcincoo', 'balde', 'de', 'latão', 'e', 'budweiser', 'long', '19', '99', 'durante', 'todo', 'evento', 'e', 'open', 'bar', 'pra', 'elas', 'https', 't', 'co', 'mx6morewrk', 'luxpa', 'y1', 'vem', 'com', 'lux', 'pulseiras', 'open', 'apenas', 'com', 'os', 'organizadores', 'amanhã', 'no', 'centro', 'são', 'só', '100', 'pulseira', 'nao', 'deem', 'bobeira', 'primei…', 'maryyysantana', 'fazendo', 'propaganda', 'da', 'budweiser', '😂😂', 'https', 't', 'co', '4kw5onep7s']\n"
     ]
    }
   ],
   "source": [
    "conta_relevantes=budweiser[\"Treinamento\"][budweiser.Classificação==1]\n",
    "palavras_rel=[]\n",
    "for r in conta_relevantes:\n",
    "    for e in r.split():\n",
    "        palavras_rel.append(e)\n",
    "print(palavras_rel)\n",
    "\n",
    "\n",
    "\n",
    "conta_irrelevantes=budweiser['Treinamento'][budweiser.Classificação==0]\n",
    "palavras_irr=[]\n",
    "for i in conta_irrelevantes:\n",
    "    for e in i.split():\n",
    "        palavras_irr.append(e)\n",
    "print(palavras_irr)\n"
   ]
  },
  {
   "cell_type": "code",
   "execution_count": 44,
   "metadata": {},
   "outputs": [
    {
     "name": "stdout",
     "output_type": "stream",
     "text": [
      "{'souto': 0.0009090909090909091, 'mc': 0.0009090909090909091, 'anurbanshop': 0.0036363636363636364, 'budweiser': 0.04181818181818182, 'br': 0.005, 'chinaskioficial': 0.0018181818181818182, 'rodrigo': 0.0018181818181818182, 'ogi': 0.0018181818181818182, 'navebeatz': 0.0018181818181818182, 'esse': 0.0022727272727272726, 'dia': 0.0022727272727272726, 'gente': 0.0013636363636363637, 'vai': 0.0009090909090909091, 'trabalhar': 0.0009090909090909091, 'numa': 0.0009090909090909091, 'festa': 0.0009090909090909091, 'niallhbra2': 0.006363636363636364, '📌|': 0.007272727272727273, 'niall': 0.008636363636363636, 'se': 0.008636363636363636, 'apresenta': 0.005, 'hoje': 0.007272727272727273, 'no': 0.019545454545454546, 'stage': 0.00909090909090909, 'em': 0.00909090909090909, 'toronto': 0.005, 'canadá': 0.005909090909090909, 'capacidade': 0.005, '16': 0.005, '000': 0.005, 'maren': 0.005, 'morris': 0.005, '8': 0.005909090909090909, '40': 0.005454545454545455, 'horário': 0.005454545454545455, 'de': 0.04, 'br…': 0.004545454545454545, 'vem': 0.004090909090909091, 'com': 0.015454545454545455, 'lux': 0.0036363636363636364, 'pulseiras': 0.0036363636363636364, 'open': 0.009545454545454546, 'apenas': 0.0036363636363636364, 'os': 0.007272727272727273, 'organizadores': 0.0036363636363636364, 'amanhã': 0.004545454545454545, 'centro': 0.0036363636363636364, 'são': 0.004090909090909091, 'só': 0.005909090909090909, '100': 0.005454545454545455, 'pulseira': 0.0036363636363636364, 'nao': 0.0036363636363636364, 'deem': 0.0036363636363636364, 'bobeira': 0.0036363636363636364, 'primeiro': 0.0013636363636363637, 'lote': 0.0009090909090909091, 'r': 0.01090909090909091, '00': 0.007272727272727273, 'https': 0.022272727272727274, 't': 0.020454545454545454, 'co': 0.020454545454545454, 'ifzcps73sw': 0.0009090909090909091, 'pablo': 0.0009090909090909091, 'crf10': 0.0009090909090909091, 'brahmacerveja': 0.0009090909090909091, 'antarctica': 0.007272727272727273, 'eisenbahn': 0.0009090909090909091, 'tem': 0.0013636363636363637, 'k': 0.0009090909090909091, 'o': 0.011363636363636364, 'não': 0.0013636363636363637, 'kkkķkkk': 0.0009090909090909091, 'ela': 0.0013636363636363637, 'é': 0.010454545454545454, 'boa': 0.0013636363636363637, 'mesmo': 0.0009090909090909091, 'brahma': 0.004090909090909091, 'latão': 0.008181818181818182, 'unidade': 0.0018181818181818182, '4': 0.0027272727272727275, 'ou': 0.0018181818181818182, '3': 0.0018181818181818182, 'por': 0.005909090909090909, '11': 0.0018181818181818182, '600ml': 0.0036363636363636364, '6': 0.0036363636363636364, '50': 0.0022727272727272726, '7': 0.0013636363636363637, 'long': 0.005454545454545455, 'neck': 0.0009090909090909091, 'msx': 0.0009090909090909091, '10': 0.0022727272727272726, 'redbull': 0.0009090909090909091, 'rua': 0.0009090909090909091, '35': 0.0009090909090909091, 'enfrente': 0.0009090909090909091, 'ponto': 0.0009090909090909091, 'final': 0.0009090909090909091, 'do': 0.011363636363636364, '759': 0.0009090909090909091, 'esperando': 0.0009090909090909091, 'm': 0.0022727272727272726, 's': 0.0027272727272727275, 'mimos': 0.0009090909090909091, 'adidasbrasil': 0.0009090909090909091, 'basement': 0.0018181818181818182, 'po': 0.0013636363636363637, 'alegre': 0.0009090909090909091, 'guelm7l1yi': 0.0009090909090909091, 'rafaelcincoo': 0.005, 'balde': 0.015454545454545455, 'e': 0.02181818181818182, '19': 0.005, '99': 0.010454545454545454, 'durante': 0.005, 'todo': 0.005, 'evento': 0.005454545454545455, 'bar': 0.007727272727272728, 'pra': 0.007272727272727273, 'elas': 0.005, 'mx6morewrk': 0.005, 'luccams11': 0.0027272727272727275, '💥': 0.005, 'mais': 0.005454545454545455, 'um': 0.005454545454545455, 'estouro': 0.0027272727272727275, 'da': 0.015909090909090907, 'agforcollege': 0.0027272727272727275, 'contamos': 0.0027272727272727275, 'melhores': 0.003181818181818182, 'djs': 0.0027272727272727275, 'alvorada': 0.0027272727272727275, 'dj': 0.004090909090909091, 'emmersonrr': 0.0027272727272727275, 'djwilliambossle': 0.0027272727272727275, '💰': 0.0027272727272727275, 'ingre…': 0.0027272727272727275, 'torvibird': 0.005454545454545455, 'hojeeeee': 0.005454545454545455, 'pau': 0.005454545454545455, 'quebra': 0.005454545454545455, 'papaaaaa': 0.005454545454545455, '🔥💃🏾💥😍': 0.005454545454545455, 'baile': 0.005454545454545455, 'secretum': 0.005454545454545455, '29': 0.010454545454545454, 'noite': 0.006363636363636364, 'toda': 0.005454545454545455, '99…': 0.005454545454545455, 'liberada': 0.0013636363636363637, 'até': 0.0013636363636363637, 'horas': 0.0013636363636363637, 'manhã': 0.0009090909090909091, 'rhuanmiguel71': 0.0013636363636363637, '🚨': 0.0022727272727272726, 'brotar': 0.0013636363636363637, 'rapaziada': 0.0013636363636363637, '50…': 0.0013636363636363637, '06': 0.0027272727272727275, '09': 0.003181818181818182, '20h': 0.0027272727272727275, 'na': 0.008636363636363636, 'ã': 0.0027272727272727275, 'urban': 0.0027272727272727275, 'shop': 0.0027272727272727275, 'consolação': 0.0027272727272727275, 'welcome': 0.0027272727272727275, 'drinks': 0.0027272727272727275, 'pa': 0.003181818181818182, 'ir': 0.003181818181818182, 'das': 0.003181818181818182, '22h': 0.0027272727272727275, 'albe': 0.0027272727272727275, 'a3': 0.0027272727272727275, 'av': 0.0027272727272727275, 'são…': 0.0022727272727272726, 'promodojaca': 0.0009090909090909091, 'jogo': 0.0013636363636363637, 'mengão': 0.0009090909090909091, 'ver': 0.0009090909090909091, 'aquele': 0.0009090909090909091, 'tomando': 0.0009090909090909091, 'uma': 0.004090909090909091, 'gelada': 0.0009090909090909091, 'mega': 0.0009090909090909091, 'promoção': 0.0013636363636363637, 'i': 0.0009090909090909091, 'leo': 0.0009090909090909091, 'n…': 0.0009090909090909091, 'colis': 0.0013636363636363637, 'motel': 0.0013636363636363637, '9': 0.0018181818181818182, 'jogaço': 0.0009090909090909091, 'poa': 0.0009090909090909091, 'assista': 0.0009090909090909091, 'ao': 0.0013636363636363637, 'grenal': 0.0009090909090909091, '⚽': 0.0009090909090909091, 'venha': 0.0009090909090909091, 'torc': 0.0009090909090909091, 'pelo': 0.0013636363636363637, 'time': 0.0013636363636363637, 'ganhe': 0.0009090909090909091, 'porção': 0.0009090909090909091, 'batatas': 0.0009090909090909091, 'fri…': 0.0009090909090909091, 'carioca': 0.0009090909090909091, 'avalon🛡': 0.0009090909090909091, 'club': 0.0009090909090909091, '07': 0.0009090909090909091, 'setembro': 0.0018181818181818182, 'as': 0.0027272727272727275, '23h': 0.0009090909090909091, 'garrafa': 0.0009090909090909091, 'vorus': 0.0009090909090909091, '39': 0.0009090909090909091, '90': 0.0009090909090909091, '01h': 0.0009090909090909091, 'nome': 0.0009090909090909091, 'lista': 0.0018181818181818182, 'ate': 0.0009090909090909091, '00h30': 0.0009090909090909091, '💃🏽': 0.0009090909090909091, 'informações': 0.0009090909090909091, 'reservas': 0.0009090909090909091, 'lounges': 0.0009090909090909091, 'nomes': 0.0013636363636363637, '27': 0.0009090909090909091, '9899': 0.0009090909090909091, '8234': 0.0009090909090909091, 'link': 0.0009090909090909091, '89pis50kss': 0.0009090909090909091, 'f9joelyoer': 0.0009090909090909091, 'aniversário': 0.0027272727272727275, '25': 0.0027272727272727275, 'anos': 0.0027272727272727275, 'então': 0.0027272727272727275, 'show': 0.0036363636363636364, 'será': 0.0027272727272727275, 'gravado': 0.0027272727272727275, 'flickerworldtou': 0.004545454545454545, 'oronto': 0.004545454545454545, '…': 0.003181818181818182, '📲': 0.0009090909090909091, '|': 0.0018181818181818182, 'ões': 0.0009090909090909091, 'local': 0.0009090909090909091, 'desta': 0.0009090909090909091, 'já': 0.0027272727272727275, 'foram': 0.0009090909090909091, 'abe': 0.0009090909090909091, 'fvvyqxt0qn': 0.0009090909090909091, 'devo': 0.0013636363636363637, 'ter': 0.0013636363636363637, 'falado': 0.0013636363636363637, 'antes': 0.0013636363636363637, 'mas': 0.0018181818181818182, 'ketchup': 0.0013636363636363637, 'bem': 0.0018181818181818182, 'bom': 0.0022727272727272726, '3qpr9jdh0q': 0.0013636363636363637, 'quasemarcio': 0.0009090909090909091, 'dimenor34174963': 0.0009090909090909091, 'muita': 0.0013636363636363637, 'fé': 0.0013636363636363637, 'começou': 0.0013636363636363637, 'mec': 0.0013636363636363637, '8gnll1epjg': 0.0013636363636363637, 'domingo': 0.0009090909090909091, 'mim': 0.0009090909090909091, 'seria': 0.0009090909090909091, 'apa': 0.0009090909090909091, 'amento': 0.0009090909090909091, 'comum': 0.0009090909090909091, 'porém': 0.0009090909090909091, 'organizado': 0.0009090909090909091, 'algum': 0.0009090909090909091, 'lugar': 0.0009090909090909091, 'movimentado': 0.0009090909090909091, 'sp': 0.0009090909090909091, 'minha': 0.0018181818181818182, 'mina': 0.0009090909090909091, 'sofá': 0.0009090909090909091, 'bebendo': 0.0009090909090909091, 'garrafinha': 0.0009090909090909091, 'comendo': 0.0009090909090909091, 'uns': 0.0009090909090909091, 'petisco': 0.0009090909090909091, 'a': 0.0009090909090909091, 'cantando': 0.0022727272727272726, 'músicas': 0.0013636363636363637, 'indie': 0.0009090909090909091, 'enquanto': 0.0009090909090909091, 'toco': 0.0009090909090909091, 'violão': 0.0009090909090909091, 'observo': 0.0009090909090909091, 'rostinho': 0.0009090909090909091, 'dela': 0.0009090909090909091, 'aa': 0.0009090909090909091, 'quero': 0.0009090909090909091, 'passei': 0.0013636363636363637, 'pela': 0.0018181818181818182, 'encruzilhada': 0.0013636363636363637, 'agora': 0.0013636363636363637, 'vi': 0.0013636363636363637, 'oferenda': 0.0013636363636363637, 'frango': 0.0013636363636363637, 'farofa': 0.0013636363636363637, 'entidades': 0.0013636363636363637, 'estão': 0.0013636363636363637, 'tornando': 0.0013636363636363637, 'q': 0.0018181818181818182, 'temia': 0.0009090909090909091, 'jovens': 0.0009090909090909091, 'pagam': 0.0009090909090909091, 'alcoólatras': 0.0009090909090909091, 'gourmet': 0.0009090909090909091, 'marcelo270334': 0.0009090909090909091, 'ce': 0.0009090909090909091, 'eza': 0.0009090909090909091, 'vencer': 0.0009090909090909091, 'ninguém': 0.0009090909090909091, 'compra': 0.0009090909090909091, 'essa': 0.0013636363636363637, 'merda': 0.0009090909090909091, 'vejo': 0.0009090909090909091, 'hora': 0.0009090909090909091, 'voltar': 0.0009090909090909091, 'grandes': 0.0009090909090909091, 'eventos': 0.0009090909090909091, 'esplanada': 0.0009090909090909091, 'bons': 0.0009090909090909091, 'tempos': 0.0009090909090909091, 'clafdl': 0.0009090909090909091, 'sou': 0.0009090909090909091, 'amante': 0.0009090909090909091, 'skol': 0.0018181818181818182, 'beats': 0.0009090909090909091, '🎶': 0.0009090909090909091, 'fica': 0.0009090909090909091, 'antiga': 0.0009090909090909091, 'hein': 0.0009090909090909091, 'poxamandyy': 0.0009090909090909091, 'mais…': 0.0009090909090909091, 'amor': 0.0013636363636363637, 'câncer': 0.0009090909090909091, 'relacionamento': 0.0013636363636363637, 'longo': 0.0009090909090909091, 'escorpião': 0.0009090909090909091, 'signo': 0.0018181818181818182, 'mãe': 0.0009090909090909091, 'libra': 0.0009090909090909091, 'pai': 0.0009090909090909091, 'gêmeos': 0.0013636363636363637, 'pior': 0.0009090909090909091, 'leão': 0.0013636363636363637, 'signos': 0.0009090909090909091, 'aquário': 0.0009090909090909091, 'sagitário': 0.0013636363636363637, 'coração': 0.0009090909090909091, 'pe': 0.0009090909090909091, 'ence': 0.0009090909090909091, 'antá': 0.0009090909090909091, 'ica': 0.0009090909090909091, 'izbbyieb4w': 0.0009090909090909091, 'naile': 0.0013636363636363637, 'pdattes': 0.0013636363636363637, '📽️': 0.0013636363636363637, 'drag': 0.0013636363636363637, 'me': 0.0018181818181818182, 'down': 0.0013636363636363637, '5': 0.0018181818181818182, 'ottolovi': 0.0018181818181818182, 'gurizada': 0.0022727272727272726, 'passou': 0.0022727272727272726, '120': 0.0022727272727272726, 'fardo': 0.0022727272727272726, '1440': 0.0022727272727272726, '681': 0.0022727272727272726, 'litros': 0.0036363636363636364, 'litros…': 0.0018181818181818182, 'entrar': 0.0013636363636363637, 'tirar': 0.0013636363636363637, '📷': 0.0013636363636363637, 'rapidinho': 0.0013636363636363637, 'sair': 0.0013636363636363637, 'correndo': 0.0013636363636363637, 'nem': 0.0013636363636363637, 'atrapalha': 0.0013636363636363637, 'fila': 0.0018181818181818182, 'gentem': 0.0013636363636363637, 'aboutlastnight': 0.0013636363636363637, 'saturday': 0.0013636363636363637, 'picture': 0.0013636363636363637, 'mirror': 0.0013636363636363637, 'look': 0.0013636363636363637, 'mood': 0.0013636363636363637, 'lex9hcd4xe': 0.0009090909090909091, 'apostei': 0.0009090909090909091, 'cerveja': 0.0018181818181818182, 'veio': 0.0009090909090909091, 'sobre': 0.0009090909090909091, 'resultado': 0.0009090909090909091, 'cruzeiro': 0.0013636363636363637, 'palmeiras': 0.0009090909090909091, 'copa': 0.0009090909090909091, 'brasil': 0.0009090909090909091, 'classifica': 0.0009090909090909091, 'ganho': 0.0009090909090909091, 'caixa': 0.0009090909090909091, 'caso': 0.0009090909090909091, 'contrário': 0.0009090909090909091, 'ele': 0.0009090909090909091, 'ganha': 0.0009090909090909091, 'kirin': 0.0009090909090909091, 'soyloucaz': 0.0009090909090909091, '&amp': 0.0009090909090909091, 'food': 0.0009090909090909091, 'pizzas': 0.0009090909090909091, 'fritas': 0.0009090909090909091, 'morro': 0.0009090909090909091, 'sapiranga': 0.0009090909090909091, 'galera': 0.0009090909090909091, '00h': 0.0009090909090909091, '04h': 0.0009090909090909091, 'budwe…': 0.0009090909090909091, 'perfil': 0.0013636363636363637, 'foi': 0.0013636363636363637, 'visto': 0.0009090909090909091, 'pessoas': 0.0009090909090909091, 'nas': 0.0009090909090909091, 'últimas': 0.0009090909090909091, 'ojl1ub4dav': 0.0013636363636363637, 'luxpa': 0.003181818181818182, 'y1': 0.003181818181818182, 'primei…': 0.003181818181818182, 'cujwegpnxs': 0.0009090909090909091, 'primeira': 0.0013636363636363637, 'vez': 0.0009090909090909091, 'taipa': 0.0009090909090909091, 'mix': 0.0009090909090909091, 'pagode': 0.0009090909090909091, 'vovô': 0.0009090909090909091, '✌️': 0.0009090909090909091, 'muito': 0.0013636363636363637, 'samba': 0.0009090909090909091, 'acompanhado': 0.0009090909090909091, '🥘': 0.0013636363636363637, 'feijoada': 0.0009090909090909091, '✨balde': 0.0013636363636363637, 'c': 0.0018181818181818182, '70': 0.0009090909090909091, '45': 0.0009090909090909091, '✨double': 0.0009090909090909091, 'caipirinha': 0.0009090909090909091, 'avenida': 0.0009090909090909091, 'fernando': 0.0013636363636363637, 'mendes': 0.0009090909090909091, 'uuudcwbyrb': 0.0009090909090909091, 'bruno': 0.0009090909090909091, 'jesus': 0.0009090909090909091, 'gatinha': 0.0009090909090909091, 'tímida': 0.0009090909090909091, 'patinha': 0.0009090909090909091, 'truco': 0.0009090909090909091, 'perigosamente': 0.0009090909090909091, '“não': 0.0009090909090909091, 'vou': 0.0009090909090909091, 'vender': 0.0009090909090909091, 'esses': 0.0009090909090909091, 'docinhos': 0.0009090909090909091, 'dá': 0.0009090909090909091, 'preguiça”': 0.0009090909090909091, 'correio': 0.0009090909090909091, 'elegante': 0.0009090909090909091, 'narga': 0.0009090909090909091, 'sempre': 0.0009090909090909091, 'troca': 0.0009090909090909091, 'te': 0.0013636363636363637, 'amo': 0.0013636363636363637, 'alô': 0.0009090909090909091, 'so': 0.0009090909090909091, 'falar': 0.0009090909090909091, 'que': 0.0009090909090909091, 'semana': 0.0009090909090909091, 'feriadão': 0.0009090909090909091, 'val': 0.0009090909090909091, '🤙🤙': 0.0009090909090909091, 'ainda': 0.0009090909090909091, 'segunda': 0.0009090909090909091, 'cabeça': 0.0009090909090909091, 'está': 0.0009090909090909091, 'nos': 0.0009090909090909091, 'roles': 0.0009090909090909091, 'dos': 0.0009090909090909091, 'fds': 0.0009090909090909091, '😂😂': 0.0018181818181818182, 'ai': 0.0009090909090909091, 'sabem': 0.0009090909090909091, 'qual': 0.0013636363636363637, 'curitiba': 0.0009090909090909091, '4tic4rszys': 0.0009090909090909091, 'lll4myzebx': 0.0009090909090909091, 'gostei': 0.0018181818181818182, 'vídeo': 0.0018181818181818182, 'youtube': 0.0018181818181818182, 'kn0hysuvbx': 0.0009090909090909091, 'munnick': 0.0009090909090909091, 'boiler': 0.0018181818181818182, 'room': 0.0018181818181818182, 'x': 0.0018181818181818182, 'cape': 0.0018181818181818182, 'town': 0.0018181818181818182, 'set': 0.0022727272727272726, 'offspring': 0.0009090909090909091, 'conce': 0.0009090909090909091, 'photos': 0.0009090909090909091, 'budweiserstage': 0.0009090909090909091, '9uy0fbvhxj': 0.0009090909090909091, 'neverendingsummer': 0.0009090909090909091, '🚨cerveja': 0.0009090909090909091, 'lata': 0.0013636363636363637, '269': 0.0009090909090909091, 'ml': 0.0009090909090909091, 'pack': 0.0009090909090909091, 'unidades': 0.0009090909090909091, '15': 0.0009090909090909091, 'bebidasnatal': 0.0009090909090909091, 'promocao': 0.0009090909090909091, 'sxwlnn61yn': 0.0009090909090909091, 'vdk': 0.0009090909090909091, '300': 0.0009090909090909091, 'energético': 0.0009090909090909091, 'vinhão': 0.0009090909090909091, 'onde': 0.0009090909090909091, 'tudo': 0.0009090909090909091, 'isso': 0.0013636363636363637, '1000': 0.0009090909090909091, 'bira': 0.0009090909090909091, 'contando': 0.0009090909090909091, 'cima': 0.0009090909090909091, 'status': 0.0009090909090909091, 'visita': 0.0009090909090909091, 'visualizado': 0.0009090909090909091, 'vezes': 0.0009090909090909091, 'ontem': 0.0009090909090909091, 'quebrei': 0.0018181818181818182, 'vodka': 0.0009090909090909091, 'melhorar': 0.0009090909090909091, 'retrovisor': 0.0009090909090909091, 'carro': 0.0013636363636363637, 'cara': 0.0009090909090909091, 'trabalho': 0.0009090909090909091, 'para': 0.0018181818181818182, 'pagar': 0.0009090909090909091, 'minhas': 0.0009090909090909091, 'merdas': 0.0009090909090909091, 'mesmo🤦\\u200d♀️': 0.0009090909090909091, 'luis': 0.0009090909090909091, '272': 0.0009090909090909091, 'pocket': 0.0009090909090909091, 'murillo': 0.0009090909090909091, 'allan': 0.0009090909090909091, 'd': 0.0009090909090909091, 'quer': 0.0009090909090909091, 'p': 0.0009090909090909091, 'huwimtfswb': 0.0009090909090909091, 'inicial': 0.0009090909090909091, 'namorado': 0.0009090909090909091, '—': 0.0009090909090909091, 'b': 0.0009090909090909091, 'h0dst938pl': 0.0009090909090909091, 'agroanjo': 0.0009090909090909091, 'viu': 0.0018181818181818182, 'r6fqbdoce5': 0.0009090909090909091, 'luke': 0.0009090909090909091, '350ml': 0.0009090909090909091, '2': 0.0009090909090909091, '49': 0.0009090909090909091, 'preços': 0.0009090909090909091, 'válidos': 0.0009090909090909091, '05': 0.0009090909090909091, '2018': 0.0009090909090909091, 'vvs7ch9i1x': 0.0009090909090909091, 'r0hhabl1ej': 0.0009090909090909091, 'bonito': 0.0009090909090909091, 'nascar': 0.0009090909090909091, 'opinião': 0.0009090909090909091, 'kevin': 0.0009090909090909091, 'harvick': 0.0009090909090909091, '2014': 0.0009090909090909091, 'nascarfoxspo': 0.0009090909090909091, 'nlacw3twat': 0.0009090909090909091, 'fazendo': 0.0013636363636363637, 'propaganda': 0.0013636363636363637, '4kw5onep7s': 0.0013636363636363637, 'brasília': 0.0013636363636363637, '22': 0.0009090909090909091, '3kxr82tygo': 0.0009090909090909091, 'bobjackk': 0.0009090909090909091, 'lelecoutz': 0.0009090909090909091, 'deisequintilia1': 0.0009090909090909091, 'adrianasscamar1': 0.0009090909090909091, 'haddad': 0.0009090909090909091, 'manueladavila': 0.0009090909090909091, 'dilmaresiste': 0.0009090909090909091, 'petralhazuero': 0.0009090909090909091, 'pgiolli': 0.0009090909090909091, 'jeansena': 0.0009090909090909091, 'pahega': 0.0009090909090909091, 'malcomecks': 0.0009090909090909091, 'psdbcinico': 0.0009090909090909091, 'mpf': 0.0009090909090909091, 'pgr': 0.0009090909090909091, 'gosto': 0.0009090909090909091, 'muuuuuuito': 0.0009090909090909091, 'original': 0.0009090909090909091, 'tcheca': 0.0009090909090909091, 'foto': 0.0009090909090909091, 'esta': 0.0009090909090909091, 'lado': 0.0009090909090909091, 'fake': 0.0009090909090909091, 'arroz': 0.0009090909090909091, 'ab': 0.0009090909090909091, 'inbev': 0.0009090909090909091, 'gqabq0dfnc': 0.0009090909090909091, 'tbt': 0.0009090909090909091, 'vamos': 0.0009090909090909091, 'temporada': 0.0009090909090909091, 'melhor': 0.0009090909090909091, 'lakitasodre': 0.0009090909090909091, '❤️🏈': 0.0009090909090909091, 'nflisback': 0.0009090909090909091, 'itacklelikeagirl': 0.0009090909090909091, '2tu9dbyuys': 0.0009090909090909091, 'como': 0.0009090909090909091, 'chama': 0.0009090909090909091, 'fanatismo': 0.0009090909090909091, 'felicidade': 0.0009090909090909091, 'ficar': 0.0009090909090909091, 'f4ady1dm4t': 0.0009090909090909091, 'denilsonsucesso': 0.0009090909090909091, 'pxx': 0.0009090909090909091, 'looh': 0.0009090909090909091, 'kkkkkkkkk': 0.0009090909090909091, 'era': 0.0009090909090909091, 'medo': 0.0009090909090909091, 'desse': 0.0009090909090909091, '🍺😋': 0.0009090909090909091, 'ericapascoal': 0.0009090909090909091, 'inscreve': 0.0009090909090909091, 'nanda': 0.0009090909090909091, 'maryyysantana': 0.0009090909090909091}\n"
     ]
    }
   ],
   "source": [
    "dic_rel = {}\n",
    "\n",
    "for r in palavras_rel:\n",
    "    dic_rel[r]=palavras_rel.count(r)\n",
    "#print(dic_rel)\n",
    "\n",
    "dic_irr = {}\n",
    "\n",
    "for i in palavras_irr:\n",
    "    dic_irr[i]=palavras_irr.count(i)\n",
    "#print(dic_irr)\n",
    "\n",
    "\n",
    "\n",
    "\n",
    "dic_prob_rel = {}\n",
    "\n",
    "\n",
    "for r in dic_rel:\n",
    "    dic_prob_rel[r] = (dic_rel[r] +1)/ ((len(dic_rel) + (len(dic_rel)+ len(dic_irr ))))\n",
    "    \n",
    "# print(dic_prob_rel)\n",
    "\n",
    "dic_prob_irr = {}\n",
    "\n",
    "for i in dic_irr:\n",
    "    dic_prob_irr[i] = (dic_irr[i] +1) / ((len(dic_irr) + (len(dic_rel)+ len(dic_irr ))))\n",
    "    \n",
    "print(dic_prob_irr)\n"
   ]
  },
  {
   "cell_type": "markdown",
   "metadata": {},
   "source": [
    "___\n",
    "### Verificando a performance\n",
    "\n",
    "Agora você deve testar o seu classificador com a base de Testes."
   ]
  },
  {
   "cell_type": "code",
   "execution_count": 45,
   "metadata": {},
   "outputs": [
    {
     "name": "stdout",
     "output_type": "stream",
     "text": [
      "relevante:140\n",
      "irrelevante:60\n",
      "relevante(Previsão pelo modelo):108\n",
      "irrelevante(Previsão pelo modelo):92\n"
     ]
    },
    {
     "data": {
      "text/html": [
       "<div>\n",
       "<style scoped>\n",
       "    .dataframe tbody tr th:only-of-type {\n",
       "        vertical-align: middle;\n",
       "    }\n",
       "\n",
       "    .dataframe tbody tr th {\n",
       "        vertical-align: top;\n",
       "    }\n",
       "\n",
       "    .dataframe thead th {\n",
       "        text-align: right;\n",
       "    }\n",
       "</style>\n",
       "<table border=\"1\" class=\"dataframe\">\n",
       "  <thead>\n",
       "    <tr style=\"text-align: right;\">\n",
       "      <th></th>\n",
       "      <th>Teste</th>\n",
       "      <th>Classificação</th>\n",
       "      <th>Previsao</th>\n",
       "    </tr>\n",
       "  </thead>\n",
       "  <tbody>\n",
       "    <tr>\n",
       "      <th>0</th>\n",
       "      <td>open de skol beats  corotte  budweiser e churr...</td>\n",
       "      <td>1</td>\n",
       "      <td>1</td>\n",
       "    </tr>\n",
       "    <tr>\n",
       "      <th>1</th>\n",
       "      <td>budweiser é tão gostosaaaa 🤤🤤💖</td>\n",
       "      <td>1</td>\n",
       "      <td>0</td>\n",
       "    </tr>\n",
       "    <tr>\n",
       "      <th>2</th>\n",
       "      <td>brendzzw  desejando uma budweiser geladíssi...</td>\n",
       "      <td>1</td>\n",
       "      <td>1</td>\n",
       "    </tr>\n",
       "    <tr>\n",
       "      <th>3</th>\n",
       "      <td>como esse povo tem coragem de vender uma lata ...</td>\n",
       "      <td>0</td>\n",
       "      <td>0</td>\n",
       "    </tr>\n",
       "    <tr>\n",
       "      <th>4</th>\n",
       "      <td>o que vocês acham de uma qua no armazém com 3 ...</td>\n",
       "      <td>0</td>\n",
       "      <td>1</td>\n",
       "    </tr>\n",
       "    <tr>\n",
       "      <th>5</th>\n",
       "      <td>luxpa y1  vem com lux    pulseiras open ape...</td>\n",
       "      <td>0</td>\n",
       "      <td>1</td>\n",
       "    </tr>\n",
       "    <tr>\n",
       "      <th>6</th>\n",
       "      <td>você percebe limitação e pobreza de espírito d...</td>\n",
       "      <td>0</td>\n",
       "      <td>1</td>\n",
       "    </tr>\n",
       "    <tr>\n",
       "      <th>7</th>\n",
       "      <td>queria entender pa e dessa galera da z o que v...</td>\n",
       "      <td>0</td>\n",
       "      <td>0</td>\n",
       "    </tr>\n",
       "    <tr>\n",
       "      <th>8</th>\n",
       "      <td>niallhbra2  📌| niall se apresenta hoje no b...</td>\n",
       "      <td>0</td>\n",
       "      <td>0</td>\n",
       "    </tr>\n",
       "    <tr>\n",
       "      <th>9</th>\n",
       "      <td>ja entrei no ônibus tomando uma budweiser</td>\n",
       "      <td>1</td>\n",
       "      <td>0</td>\n",
       "    </tr>\n",
       "  </tbody>\n",
       "</table>\n",
       "</div>"
      ],
      "text/plain": [
       "                                               Teste  Classificação  Previsao\n",
       "0  open de skol beats  corotte  budweiser e churr...              1         1\n",
       "1                     budweiser é tão gostosaaaa 🤤🤤💖              1         0\n",
       "2     brendzzw  desejando uma budweiser geladíssi...              1         1\n",
       "3  como esse povo tem coragem de vender uma lata ...              0         0\n",
       "4  o que vocês acham de uma qua no armazém com 3 ...              0         1\n",
       "5     luxpa y1  vem com lux    pulseiras open ape...              0         1\n",
       "6  você percebe limitação e pobreza de espírito d...              0         1\n",
       "7  queria entender pa e dessa galera da z o que v...              0         0\n",
       "8     niallhbra2  📌| niall se apresenta hoje no b...              0         0\n",
       "9          ja entrei no ônibus tomando uma budweiser              1         0"
      ]
     },
     "execution_count": 45,
     "metadata": {},
     "output_type": "execute_result"
    }
   ],
   "source": [
    "relevante_teste=0\n",
    "irrelevante_teste=0\n",
    "for i in bud_teste['Classificação']:\n",
    "    if i==0:\n",
    "        irrelevante_teste+=1\n",
    "    elif i==1:\n",
    "        relevante_teste+=1\n",
    "\n",
    "print('relevante:{0}'.format(relevante_teste))        \n",
    "print('irrelevante:{0}'.format(irrelevante_teste))        \n",
    "\n",
    "        \n",
    "\n",
    "\n",
    "\n",
    "dic_teste = {}\n",
    "dic_teste = bud_teste\n",
    "\n",
    "relevantes_counts_teste=bud_teste[\"Teste\"][bud_teste.Classificação==1]\n",
    "irrelevantes_counts_teste=bud_teste[\"Teste\"][bud_teste.Classificação==0]\n",
    "\n",
    "coluna_previsao = []\n",
    "\n",
    "for r in bud_teste[\"Teste\"]:\n",
    "    a = r.split()\n",
    "    prob_teste_rel = 1\n",
    "    prob_teste_irrel = 1\n",
    "    \n",
    "    for o in a:\n",
    "        try:\n",
    "            prob_teste_rel *= log(dic_prob_rel[o])\n",
    "            prob_teste_irrel *= log(dic_prob_irrel[o])\n",
    "        except: \n",
    "            ''\n",
    "    if prob_teste_rel > prob_teste_irrel:\n",
    "        coluna_previsao.append(1)\n",
    "    else:\n",
    "        coluna_previsao.append(0)\n",
    "\n",
    "bud_teste[\"Previsao\"] = coluna_previsao\n",
    "bud_teste[\"Previsao\"]\n",
    "\n",
    "\n",
    "relevante_previsao=0\n",
    "irrelevante_previsao=0\n",
    "for e in bud_teste[\"Previsao\"]:\n",
    "    if e == 0:\n",
    "        irrelevante_previsao+=1\n",
    "    elif e ==1:\n",
    "        relevante_previsao+=1\n",
    "\n",
    "        \n",
    "print('relevante(Previsão pelo modelo):{0}'.format(relevante_previsao))        \n",
    "print('irrelevante(Previsão pelo modelo):{0}'.format(irrelevante_previsao))\n",
    "\n",
    "\n",
    "bud_teste.head(10)"
   ]
  },
  {
   "cell_type": "code",
   "execution_count": 46,
   "metadata": {},
   "outputs": [
    {
     "name": "stdout",
     "output_type": "stream",
     "text": [
      "verdadeiro positivo:84 tweets\n",
      "verdadeiro negativo:36 tweets\n",
      "falso negativo:24 tweets\n",
      "falso positivo:56 tweets\n",
      "probabilidade de ser verdadeiro positivo:42.0%\n",
      "probabilidade de ser verdadeiro negativo:18.0%\n",
      "probabilidade de ser falso negativo:12.0%\n",
      "probabilidade de ser falso positivo:28.000000000000004%\n",
      "Probabilidade de acerto:60.0%\n"
     ]
    }
   ],
   "source": [
    "\n",
    "i=0\n",
    "verdadeiro_positivo=0\n",
    "verdadeiro_negativo=0 \n",
    "falso_negativo=0\n",
    "falso_positivo=0 \n",
    "while i <len(bud_teste['Classificação']):\n",
    "    if bud_teste['Classificação'][i]==1 and bud_teste['Classificação'][i]== bud_teste['Previsao'][i]:\n",
    "        verdadeiro_positivo+=1\n",
    "        i+=1\n",
    "    elif bud_teste['Classificação'][i]==0 and bud_teste['Classificação'][i]== bud_teste['Previsao'][i]:\n",
    "        verdadeiro_negativo+=1\n",
    "        i+=1\n",
    "    elif bud_teste['Classificação'][i]==0 and bud_teste['Previsao'][i]== 1:\n",
    "        falso_negativo+=1\n",
    "        i+=1\n",
    "    elif bud_teste['Classificação'][i]==1 and bud_teste['Previsao'][i]== 0:\n",
    "        falso_positivo+=1\n",
    "        i+=1\n",
    "    else:\n",
    "        i+=1\n",
    "        \n",
    "        \n",
    "\n",
    "print('verdadeiro positivo:{0} tweets'.format(verdadeiro_positivo))\n",
    "print('verdadeiro negativo:{0} tweets'.format(verdadeiro_negativo))\n",
    "print('falso negativo:{0} tweets'.format(falso_negativo))\n",
    "print('falso positivo:{0} tweets'.format(falso_positivo))\n",
    "\n",
    "print('probabilidade de ser verdadeiro positivo:{0}%'.format((verdadeiro_positivo/200)*100))\n",
    "print('probabilidade de ser verdadeiro negativo:{0}%'.format((verdadeiro_negativo/200)*100))\n",
    "print('probabilidade de ser falso negativo:{0}%'.format((falso_negativo/200)*100))\n",
    "print('probabilidade de ser falso positivo:{0}%'.format((falso_positivo/200)*100))\n",
    "\n",
    "print('Probabilidade de acerto:{0}%'.format(((verdadeiro_positivo/200)*100)+((verdadeiro_negativo/200)*100)))"
   ]
  },
  {
   "cell_type": "code",
   "execution_count": null,
   "metadata": {},
   "outputs": [],
   "source": []
  },
  {
   "cell_type": "markdown",
   "metadata": {},
   "source": [
    "___\n",
    "### Concluindo"
   ]
  },
  {
   "cell_type": "markdown",
   "metadata": {},
   "source": [
    "Ao analisar os tweets referentes à cerveja budweiser, pode-se concluir que o classificador foi razoavelmente eficiente em calcular a relevância de um comentário sobre o produto, sendo a probabilidade de acerto de 60%. Ao fazer a classificação manual dos tweets, percebe-se que nem todos comentários são avaliações da cerveja, e sim de comentarios sobre eventos que a empresa budweiser organiza. Esses comentarios afetam bastante na análise, pois eles podem ter relação com as palavras usadas para se referir ao produto, e assim enfraquecendo a qualidade do classificador.\n",
    " \n",
    "Sobre o tratamento das mensagens com dupla negação e sarcasmo, ao classificar as mensagens não houveram muitos comentarios deste tipo, desta forma o nosso classificador considerou apenas as palavras idependentes, sem considerar sua coerência ou ordem.\n",
    "\n",
    "Considerando uma possível expansão do projeto, é importante que haja mais parâmetros para uma melhor implementação do classificador. Dentre elas se destacam: uma limpeza mais eficaz dos comentários e uma maior quantidade de tweets disponíveis para uma analise mais variada e geral."
   ]
  },
  {
   "cell_type": "markdown",
   "metadata": {},
   "source": [
    "# Referências"
   ]
  },
  {
   "cell_type": "markdown",
   "metadata": {},
   "source": [
    "[Naive Bayes and Text Classification](https://arxiv.org/pdf/1410.5329.pdf)  **Mais completo**\n",
    "\n",
    "[A practical explanation of a Naive Bayes Classifier](https://monkeylearn.com/blog/practical-explanation-naive-bayes-classifier/) **Mais simples**"
   ]
  },
  {
   "cell_type": "code",
   "execution_count": null,
   "metadata": {},
   "outputs": [],
   "source": []
  },
  {
   "cell_type": "code",
   "execution_count": null,
   "metadata": {},
   "outputs": [],
   "source": []
  },
  {
   "cell_type": "code",
   "execution_count": null,
   "metadata": {},
   "outputs": [],
   "source": []
  }
 ],
 "metadata": {
  "kernelspec": {
   "display_name": "Python 3",
   "language": "python",
   "name": "python3"
  },
  "language_info": {
   "codemirror_mode": {
    "name": "ipython",
    "version": 3
   },
   "file_extension": ".py",
   "mimetype": "text/x-python",
   "name": "python",
   "nbconvert_exporter": "python",
   "pygments_lexer": "ipython3",
   "version": "3.6.4"
  }
 },
 "nbformat": 4,
 "nbformat_minor": 4
}
